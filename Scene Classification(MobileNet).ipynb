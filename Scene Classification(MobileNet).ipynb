{
 "cells": [
  {
   "cell_type": "code",
   "execution_count": 1,
   "id": "unavailable-feeding",
   "metadata": {},
   "outputs": [
    {
     "name": "stderr",
     "output_type": "stream",
     "text": [
      "2021-10-18 20:52:49.160471: I tensorflow/stream_executor/platform/default/dso_loader.cc:49] Successfully opened dynamic library libcudart.so.10.1\n"
     ]
    }
   ],
   "source": [
    "from tensorflow.keras.applications import MobileNet\n",
    "from tensorflow.keras.models import Sequential, Model\n",
    "from tensorflow.keras.layers import Dense, Dropout, Activation, Flatten, GlobalAveragePooling2D\n",
    "from tensorflow.keras.layers import Conv2D, MaxPooling2D, ZeroPadding2D\n",
    "from tensorflow.keras.layers import BatchNormalization\n",
    "from tensorflow.keras.preprocessing.image import ImageDataGenerator\n",
    "from tensorflow.keras.models import load_model\n",
    "\n",
    "import matplotlib.pyplot as plt\n",
    "\n",
    "import wandb\n",
    "from wandb.keras import WandbCallback\n",
    "\n",
    "import os"
   ]
  },
  {
   "cell_type": "code",
   "execution_count": 2,
   "id": "furnished-cambodia",
   "metadata": {},
   "outputs": [
    {
     "name": "stderr",
     "output_type": "stream",
     "text": [
      "2021-10-18 20:52:50.210196: I tensorflow/core/platform/cpu_feature_guard.cc:142] This TensorFlow binary is optimized with oneAPI Deep Neural Network Library (oneDNN) to use the following CPU instructions in performance-critical operations:  SSE4.1 SSE4.2 AVX AVX2 FMA\n",
      "To enable them in other operations, rebuild TensorFlow with the appropriate compiler flags.\n",
      "2021-10-18 20:52:50.211432: I tensorflow/stream_executor/platform/default/dso_loader.cc:49] Successfully opened dynamic library libcuda.so.1\n",
      "2021-10-18 20:52:50.248883: I tensorflow/stream_executor/cuda/cuda_gpu_executor.cc:941] successful NUMA node read from SysFS had negative value (-1), but there must be at least one NUMA node, so returning NUMA node zero\n",
      "2021-10-18 20:52:50.249503: I tensorflow/core/common_runtime/gpu/gpu_device.cc:1720] Found device 0 with properties: \n",
      "pciBusID: 0000:08:00.0 name: NVIDIA GeForce GTX 1660 SUPER computeCapability: 7.5\n",
      "coreClock: 1.86GHz coreCount: 22 deviceMemorySize: 5.80GiB deviceMemoryBandwidth: 312.97GiB/s\n",
      "2021-10-18 20:52:50.249518: I tensorflow/stream_executor/platform/default/dso_loader.cc:49] Successfully opened dynamic library libcudart.so.10.1\n",
      "2021-10-18 20:52:50.250492: I tensorflow/stream_executor/platform/default/dso_loader.cc:49] Successfully opened dynamic library libcublas.so.10\n",
      "2021-10-18 20:52:50.250514: I tensorflow/stream_executor/platform/default/dso_loader.cc:49] Successfully opened dynamic library libcublasLt.so.10\n",
      "2021-10-18 20:52:50.251478: I tensorflow/stream_executor/platform/default/dso_loader.cc:49] Successfully opened dynamic library libcufft.so.10\n",
      "2021-10-18 20:52:50.251619: I tensorflow/stream_executor/platform/default/dso_loader.cc:49] Successfully opened dynamic library libcurand.so.10\n",
      "2021-10-18 20:52:50.252499: I tensorflow/stream_executor/platform/default/dso_loader.cc:49] Successfully opened dynamic library libcusolver.so.10\n",
      "2021-10-18 20:52:50.253015: I tensorflow/stream_executor/platform/default/dso_loader.cc:49] Successfully opened dynamic library libcusparse.so.10\n",
      "2021-10-18 20:52:50.254930: I tensorflow/stream_executor/platform/default/dso_loader.cc:49] Successfully opened dynamic library libcudnn.so.7\n",
      "2021-10-18 20:52:50.255019: I tensorflow/stream_executor/cuda/cuda_gpu_executor.cc:941] successful NUMA node read from SysFS had negative value (-1), but there must be at least one NUMA node, so returning NUMA node zero\n",
      "2021-10-18 20:52:50.255535: I tensorflow/stream_executor/cuda/cuda_gpu_executor.cc:941] successful NUMA node read from SysFS had negative value (-1), but there must be at least one NUMA node, so returning NUMA node zero\n",
      "2021-10-18 20:52:50.255861: I tensorflow/core/common_runtime/gpu/gpu_device.cc:1862] Adding visible gpu devices: 0\n",
      "2021-10-18 20:52:50.255883: I tensorflow/stream_executor/platform/default/dso_loader.cc:49] Successfully opened dynamic library libcudart.so.10.1\n",
      "2021-10-18 20:52:50.612949: I tensorflow/core/common_runtime/gpu/gpu_device.cc:1261] Device interconnect StreamExecutor with strength 1 edge matrix:\n",
      "2021-10-18 20:52:50.612980: I tensorflow/core/common_runtime/gpu/gpu_device.cc:1267]      0 \n",
      "2021-10-18 20:52:50.612985: I tensorflow/core/common_runtime/gpu/gpu_device.cc:1280] 0:   N \n",
      "2021-10-18 20:52:50.613159: I tensorflow/stream_executor/cuda/cuda_gpu_executor.cc:941] successful NUMA node read from SysFS had negative value (-1), but there must be at least one NUMA node, so returning NUMA node zero\n",
      "2021-10-18 20:52:50.613603: I tensorflow/stream_executor/cuda/cuda_gpu_executor.cc:941] successful NUMA node read from SysFS had negative value (-1), but there must be at least one NUMA node, so returning NUMA node zero\n",
      "2021-10-18 20:52:50.613909: I tensorflow/stream_executor/cuda/cuda_gpu_executor.cc:941] successful NUMA node read from SysFS had negative value (-1), but there must be at least one NUMA node, so returning NUMA node zero\n",
      "2021-10-18 20:52:50.614200: I tensorflow/core/common_runtime/gpu/gpu_device.cc:1406] Created TensorFlow device (/job:localhost/replica:0/task:0/device:GPU:0 with 4753 MB memory) -> physical GPU (device: 0, name: NVIDIA GeForce GTX 1660 SUPER, pci bus id: 0000:08:00.0, compute capability: 7.5)\n",
      "2021-10-18 20:52:50.614350: I tensorflow/compiler/jit/xla_gpu_device.cc:99] Not creating XLA devices, tf_xla_enable_xla_devices not set\n"
     ]
    }
   ],
   "source": [
    "import tensorflow as tf\n",
    "\n",
    "os.environ['CUDA_VISIBLE_DEVICES'] = '0' # 초기화 할 GPU Number\n",
    "config = tf.compat.v1.ConfigProto()\n",
    "config.gpu_options.per_process_gpu_memory_fraction = 0.8\n",
    "sess = tf.compat.v1.Session(config=config)"
   ]
  },
  {
   "cell_type": "code",
   "execution_count": 3,
   "id": "handled-demographic",
   "metadata": {},
   "outputs": [
    {
     "name": "stderr",
     "output_type": "stream",
     "text": [
      "2021-10-18 20:52:50.631342: I tensorflow/compiler/jit/xla_cpu_device.cc:41] Not creating XLA devices, tf_xla_enable_xla_devices not set\n",
      "2021-10-18 20:52:50.631511: I tensorflow/stream_executor/cuda/cuda_gpu_executor.cc:941] successful NUMA node read from SysFS had negative value (-1), but there must be at least one NUMA node, so returning NUMA node zero\n",
      "2021-10-18 20:52:50.632343: I tensorflow/core/common_runtime/gpu/gpu_device.cc:1720] Found device 0 with properties: \n",
      "pciBusID: 0000:08:00.0 name: NVIDIA GeForce GTX 1660 SUPER computeCapability: 7.5\n",
      "coreClock: 1.86GHz coreCount: 22 deviceMemorySize: 5.80GiB deviceMemoryBandwidth: 312.97GiB/s\n",
      "2021-10-18 20:52:50.632380: I tensorflow/stream_executor/platform/default/dso_loader.cc:49] Successfully opened dynamic library libcudart.so.10.1\n",
      "2021-10-18 20:52:50.632404: I tensorflow/stream_executor/platform/default/dso_loader.cc:49] Successfully opened dynamic library libcublas.so.10\n",
      "2021-10-18 20:52:50.632415: I tensorflow/stream_executor/platform/default/dso_loader.cc:49] Successfully opened dynamic library libcublasLt.so.10\n",
      "2021-10-18 20:52:50.632425: I tensorflow/stream_executor/platform/default/dso_loader.cc:49] Successfully opened dynamic library libcufft.so.10\n",
      "2021-10-18 20:52:50.632433: I tensorflow/stream_executor/platform/default/dso_loader.cc:49] Successfully opened dynamic library libcurand.so.10\n",
      "2021-10-18 20:52:50.632440: I tensorflow/stream_executor/platform/default/dso_loader.cc:49] Successfully opened dynamic library libcusolver.so.10\n",
      "2021-10-18 20:52:50.632446: I tensorflow/stream_executor/platform/default/dso_loader.cc:49] Successfully opened dynamic library libcusparse.so.10\n",
      "2021-10-18 20:52:50.632453: I tensorflow/stream_executor/platform/default/dso_loader.cc:49] Successfully opened dynamic library libcudnn.so.7\n",
      "2021-10-18 20:52:50.632491: I tensorflow/stream_executor/cuda/cuda_gpu_executor.cc:941] successful NUMA node read from SysFS had negative value (-1), but there must be at least one NUMA node, so returning NUMA node zero\n",
      "2021-10-18 20:52:50.632803: I tensorflow/stream_executor/cuda/cuda_gpu_executor.cc:941] successful NUMA node read from SysFS had negative value (-1), but there must be at least one NUMA node, so returning NUMA node zero\n",
      "2021-10-18 20:52:50.633078: I tensorflow/core/common_runtime/gpu/gpu_device.cc:1862] Adding visible gpu devices: 0\n",
      "2021-10-18 20:52:50.633227: I tensorflow/stream_executor/cuda/cuda_gpu_executor.cc:941] successful NUMA node read from SysFS had negative value (-1), but there must be at least one NUMA node, so returning NUMA node zero\n",
      "2021-10-18 20:52:50.633579: I tensorflow/core/common_runtime/gpu/gpu_device.cc:1720] Found device 0 with properties: \n",
      "pciBusID: 0000:08:00.0 name: NVIDIA GeForce GTX 1660 SUPER computeCapability: 7.5\n",
      "coreClock: 1.86GHz coreCount: 22 deviceMemorySize: 5.80GiB deviceMemoryBandwidth: 312.97GiB/s\n",
      "2021-10-18 20:52:50.633588: I tensorflow/stream_executor/platform/default/dso_loader.cc:49] Successfully opened dynamic library libcudart.so.10.1\n",
      "2021-10-18 20:52:50.633596: I tensorflow/stream_executor/platform/default/dso_loader.cc:49] Successfully opened dynamic library libcublas.so.10\n",
      "2021-10-18 20:52:50.633602: I tensorflow/stream_executor/platform/default/dso_loader.cc:49] Successfully opened dynamic library libcublasLt.so.10\n",
      "2021-10-18 20:52:50.633608: I tensorflow/stream_executor/platform/default/dso_loader.cc:49] Successfully opened dynamic library libcufft.so.10\n",
      "2021-10-18 20:52:50.633613: I tensorflow/stream_executor/platform/default/dso_loader.cc:49] Successfully opened dynamic library libcurand.so.10\n",
      "2021-10-18 20:52:50.633619: I tensorflow/stream_executor/platform/default/dso_loader.cc:49] Successfully opened dynamic library libcusolver.so.10\n",
      "2021-10-18 20:52:50.633625: I tensorflow/stream_executor/platform/default/dso_loader.cc:49] Successfully opened dynamic library libcusparse.so.10\n",
      "2021-10-18 20:52:50.633631: I tensorflow/stream_executor/platform/default/dso_loader.cc:49] Successfully opened dynamic library libcudnn.so.7\n",
      "2021-10-18 20:52:50.633661: I tensorflow/stream_executor/cuda/cuda_gpu_executor.cc:941] successful NUMA node read from SysFS had negative value (-1), but there must be at least one NUMA node, so returning NUMA node zero\n",
      "2021-10-18 20:52:50.633987: I tensorflow/stream_executor/cuda/cuda_gpu_executor.cc:941] successful NUMA node read from SysFS had negative value (-1), but there must be at least one NUMA node, so returning NUMA node zero\n",
      "2021-10-18 20:52:50.634322: I tensorflow/core/common_runtime/gpu/gpu_device.cc:1862] Adding visible gpu devices: 0\n",
      "2021-10-18 20:52:50.634343: I tensorflow/core/common_runtime/gpu/gpu_device.cc:1261] Device interconnect StreamExecutor with strength 1 edge matrix:\n",
      "2021-10-18 20:52:50.634347: I tensorflow/core/common_runtime/gpu/gpu_device.cc:1267]      0 \n",
      "2021-10-18 20:52:50.634351: I tensorflow/core/common_runtime/gpu/gpu_device.cc:1280] 0:   N \n",
      "2021-10-18 20:52:50.634405: I tensorflow/stream_executor/cuda/cuda_gpu_executor.cc:941] successful NUMA node read from SysFS had negative value (-1), but there must be at least one NUMA node, so returning NUMA node zero\n",
      "2021-10-18 20:52:50.634890: I tensorflow/stream_executor/cuda/cuda_gpu_executor.cc:941] successful NUMA node read from SysFS had negative value (-1), but there must be at least one NUMA node, so returning NUMA node zero\n",
      "2021-10-18 20:52:50.636087: I tensorflow/core/common_runtime/gpu/gpu_device.cc:1406] Created TensorFlow device (/job:localhost/replica:0/task:0/device:GPU:0 with 4753 MB memory) -> physical GPU (device: 0, name: NVIDIA GeForce GTX 1660 SUPER, pci bus id: 0000:08:00.0, compute capability: 7.5)\n",
      "2021-10-18 20:52:50.636097: I tensorflow/compiler/jit/xla_gpu_device.cc:99] Not creating XLA devices, tf_xla_enable_xla_devices not set\n"
     ]
    }
   ],
   "source": [
    "img_rows , img_cols = 224, 224 # MobileNet input size\n",
    "\n",
    "# imagenet pretrained된 가중치 가져옴\n",
    "MobileNet = MobileNet(weights='imagenet', include_top=False, input_shape=(img_rows, img_cols, 3))"
   ]
  },
  {
   "cell_type": "code",
   "execution_count": 4,
   "id": "charged-textbook",
   "metadata": {
    "scrolled": true
   },
   "outputs": [
    {
     "name": "stdout",
     "output_type": "stream",
     "text": [
      "0 InputLayer True\n",
      "1 Conv2D True\n",
      "2 BatchNormalization True\n",
      "3 ReLU True\n",
      "4 DepthwiseConv2D True\n",
      "5 BatchNormalization True\n",
      "6 ReLU True\n",
      "7 Conv2D True\n",
      "8 BatchNormalization True\n",
      "9 ReLU True\n",
      "10 ZeroPadding2D True\n",
      "11 DepthwiseConv2D True\n",
      "12 BatchNormalization True\n",
      "13 ReLU True\n",
      "14 Conv2D True\n",
      "15 BatchNormalization True\n",
      "16 ReLU True\n",
      "17 DepthwiseConv2D True\n",
      "18 BatchNormalization True\n",
      "19 ReLU True\n",
      "20 Conv2D True\n",
      "21 BatchNormalization True\n",
      "22 ReLU True\n",
      "23 ZeroPadding2D True\n",
      "24 DepthwiseConv2D True\n",
      "25 BatchNormalization True\n",
      "26 ReLU True\n",
      "27 Conv2D True\n",
      "28 BatchNormalization True\n",
      "29 ReLU True\n",
      "30 DepthwiseConv2D True\n",
      "31 BatchNormalization True\n",
      "32 ReLU True\n",
      "33 Conv2D True\n",
      "34 BatchNormalization True\n",
      "35 ReLU True\n",
      "36 ZeroPadding2D True\n",
      "37 DepthwiseConv2D True\n",
      "38 BatchNormalization True\n",
      "39 ReLU True\n",
      "40 Conv2D True\n",
      "41 BatchNormalization True\n",
      "42 ReLU True\n",
      "43 DepthwiseConv2D True\n",
      "44 BatchNormalization True\n",
      "45 ReLU True\n",
      "46 Conv2D True\n",
      "47 BatchNormalization True\n",
      "48 ReLU True\n",
      "49 DepthwiseConv2D True\n",
      "50 BatchNormalization True\n",
      "51 ReLU True\n",
      "52 Conv2D True\n",
      "53 BatchNormalization True\n",
      "54 ReLU True\n",
      "55 DepthwiseConv2D True\n",
      "56 BatchNormalization True\n",
      "57 ReLU True\n",
      "58 Conv2D True\n",
      "59 BatchNormalization True\n",
      "60 ReLU True\n",
      "61 DepthwiseConv2D True\n",
      "62 BatchNormalization True\n",
      "63 ReLU True\n",
      "64 Conv2D True\n",
      "65 BatchNormalization True\n",
      "66 ReLU True\n",
      "67 DepthwiseConv2D True\n",
      "68 BatchNormalization True\n",
      "69 ReLU True\n",
      "70 Conv2D True\n",
      "71 BatchNormalization True\n",
      "72 ReLU True\n",
      "73 ZeroPadding2D True\n",
      "74 DepthwiseConv2D True\n",
      "75 BatchNormalization True\n",
      "76 ReLU True\n",
      "77 Conv2D True\n",
      "78 BatchNormalization True\n",
      "79 ReLU True\n",
      "80 DepthwiseConv2D True\n",
      "81 BatchNormalization True\n",
      "82 ReLU True\n",
      "83 Conv2D True\n",
      "84 BatchNormalization True\n",
      "85 ReLU True\n"
     ]
    }
   ],
   "source": [
    "for layer in MobileNet.layers:\n",
    "    layer.trainable = True\n",
    "    \n",
    "for (i, layer) in enumerate(MobileNet.layers):\n",
    "    print(str(i), layer.__class__.__name__, layer.trainable)"
   ]
  },
  {
   "cell_type": "code",
   "execution_count": 5,
   "id": "alert-citizenship",
   "metadata": {},
   "outputs": [],
   "source": [
    "def addTopModelMobileNet(bottom_model, num_classes):\n",
    "    top_model = bottom_model.output\n",
    "    top_model = GlobalAveragePooling2D()(top_model)\n",
    "    top_model = Dense(1024, activation='relu')(top_model)\n",
    "    top_model = Dense(1024, activation='relu')(top_model)\n",
    "    top_model = Dense(512, activation='relu')(top_model)\n",
    "    top_model = Dense(num_classes, activation='softmax')(top_model)\n",
    "    \n",
    "    return top_model\n",
    "    "
   ]
  },
  {
   "cell_type": "code",
   "execution_count": 6,
   "id": "imported-outdoors",
   "metadata": {},
   "outputs": [
    {
     "name": "stdout",
     "output_type": "stream",
     "text": [
      "Found 2446 images belonging to 2 classes.\n",
      "Found 613 images belonging to 2 classes.\n",
      "Found 833 images belonging to 2 classes.\n"
     ]
    }
   ],
   "source": [
    "train_data_dir = 'paper_dataset/train'\n",
    "validation_data_dir = 'paper_dataset/validation'\n",
    "test_data_dir = 'paper_dataset/test'\n",
    "\n",
    "train_datagen = ImageDataGenerator(\n",
    "                    rescale=1./255,\n",
    "#                     rotation_range=30,\n",
    "#                     width_shift_range=0.3,\n",
    "#                     height_shift_range=0.3,\n",
    "#                     fill_mode='nearest'\n",
    "                    )\n",
    "\n",
    "validation_datagen = ImageDataGenerator(rescale=1./255)\n",
    "\n",
    "test_datagen = ImageDataGenerator(rescale=1./255)\n",
    "\n",
    "batch_size = 32\n",
    "\n",
    "train_generator = train_datagen.flow_from_directory(\n",
    "train_data_dir,\n",
    "target_size=(img_rows, img_cols),\n",
    "batch_size=batch_size,\n",
    "class_mode='categorical',\n",
    ")\n",
    "\n",
    "validation_generator = validation_datagen.flow_from_directory(\n",
    "validation_data_dir,\n",
    "target_size=(img_rows, img_cols),\n",
    "batch_size=batch_size,\n",
    "class_mode='categorical'\n",
    ")\n",
    "\n",
    "test_generator = test_datagen.flow_from_directory(\n",
    "    test_data_dir,\n",
    "    target_size=(img_rows, img_cols),\n",
    "    batch_size=batch_size,\n",
    "    class_mode='categorical'\n",
    ")"
   ]
  },
  {
   "cell_type": "code",
   "execution_count": 7,
   "id": "ruled-locator",
   "metadata": {},
   "outputs": [
    {
     "name": "stdout",
     "output_type": "stream",
     "text": [
      "Model: \"model\"\n",
      "_________________________________________________________________\n",
      "Layer (type)                 Output Shape              Param #   \n",
      "=================================================================\n",
      "input_1 (InputLayer)         [(None, 224, 224, 3)]     0         \n",
      "_________________________________________________________________\n",
      "conv1 (Conv2D)               (None, 112, 112, 32)      864       \n",
      "_________________________________________________________________\n",
      "conv1_bn (BatchNormalization (None, 112, 112, 32)      128       \n",
      "_________________________________________________________________\n",
      "conv1_relu (ReLU)            (None, 112, 112, 32)      0         \n",
      "_________________________________________________________________\n",
      "conv_dw_1 (DepthwiseConv2D)  (None, 112, 112, 32)      288       \n",
      "_________________________________________________________________\n",
      "conv_dw_1_bn (BatchNormaliza (None, 112, 112, 32)      128       \n",
      "_________________________________________________________________\n",
      "conv_dw_1_relu (ReLU)        (None, 112, 112, 32)      0         \n",
      "_________________________________________________________________\n",
      "conv_pw_1 (Conv2D)           (None, 112, 112, 64)      2048      \n",
      "_________________________________________________________________\n",
      "conv_pw_1_bn (BatchNormaliza (None, 112, 112, 64)      256       \n",
      "_________________________________________________________________\n",
      "conv_pw_1_relu (ReLU)        (None, 112, 112, 64)      0         \n",
      "_________________________________________________________________\n",
      "conv_pad_2 (ZeroPadding2D)   (None, 113, 113, 64)      0         \n",
      "_________________________________________________________________\n",
      "conv_dw_2 (DepthwiseConv2D)  (None, 56, 56, 64)        576       \n",
      "_________________________________________________________________\n",
      "conv_dw_2_bn (BatchNormaliza (None, 56, 56, 64)        256       \n",
      "_________________________________________________________________\n",
      "conv_dw_2_relu (ReLU)        (None, 56, 56, 64)        0         \n",
      "_________________________________________________________________\n",
      "conv_pw_2 (Conv2D)           (None, 56, 56, 128)       8192      \n",
      "_________________________________________________________________\n",
      "conv_pw_2_bn (BatchNormaliza (None, 56, 56, 128)       512       \n",
      "_________________________________________________________________\n",
      "conv_pw_2_relu (ReLU)        (None, 56, 56, 128)       0         \n",
      "_________________________________________________________________\n",
      "conv_dw_3 (DepthwiseConv2D)  (None, 56, 56, 128)       1152      \n",
      "_________________________________________________________________\n",
      "conv_dw_3_bn (BatchNormaliza (None, 56, 56, 128)       512       \n",
      "_________________________________________________________________\n",
      "conv_dw_3_relu (ReLU)        (None, 56, 56, 128)       0         \n",
      "_________________________________________________________________\n",
      "conv_pw_3 (Conv2D)           (None, 56, 56, 128)       16384     \n",
      "_________________________________________________________________\n",
      "conv_pw_3_bn (BatchNormaliza (None, 56, 56, 128)       512       \n",
      "_________________________________________________________________\n",
      "conv_pw_3_relu (ReLU)        (None, 56, 56, 128)       0         \n",
      "_________________________________________________________________\n",
      "conv_pad_4 (ZeroPadding2D)   (None, 57, 57, 128)       0         \n",
      "_________________________________________________________________\n",
      "conv_dw_4 (DepthwiseConv2D)  (None, 28, 28, 128)       1152      \n",
      "_________________________________________________________________\n",
      "conv_dw_4_bn (BatchNormaliza (None, 28, 28, 128)       512       \n",
      "_________________________________________________________________\n",
      "conv_dw_4_relu (ReLU)        (None, 28, 28, 128)       0         \n",
      "_________________________________________________________________\n",
      "conv_pw_4 (Conv2D)           (None, 28, 28, 256)       32768     \n",
      "_________________________________________________________________\n",
      "conv_pw_4_bn (BatchNormaliza (None, 28, 28, 256)       1024      \n",
      "_________________________________________________________________\n",
      "conv_pw_4_relu (ReLU)        (None, 28, 28, 256)       0         \n",
      "_________________________________________________________________\n",
      "conv_dw_5 (DepthwiseConv2D)  (None, 28, 28, 256)       2304      \n",
      "_________________________________________________________________\n",
      "conv_dw_5_bn (BatchNormaliza (None, 28, 28, 256)       1024      \n",
      "_________________________________________________________________\n",
      "conv_dw_5_relu (ReLU)        (None, 28, 28, 256)       0         \n",
      "_________________________________________________________________\n",
      "conv_pw_5 (Conv2D)           (None, 28, 28, 256)       65536     \n",
      "_________________________________________________________________\n",
      "conv_pw_5_bn (BatchNormaliza (None, 28, 28, 256)       1024      \n",
      "_________________________________________________________________\n",
      "conv_pw_5_relu (ReLU)        (None, 28, 28, 256)       0         \n",
      "_________________________________________________________________\n",
      "conv_pad_6 (ZeroPadding2D)   (None, 29, 29, 256)       0         \n",
      "_________________________________________________________________\n",
      "conv_dw_6 (DepthwiseConv2D)  (None, 14, 14, 256)       2304      \n",
      "_________________________________________________________________\n",
      "conv_dw_6_bn (BatchNormaliza (None, 14, 14, 256)       1024      \n",
      "_________________________________________________________________\n",
      "conv_dw_6_relu (ReLU)        (None, 14, 14, 256)       0         \n",
      "_________________________________________________________________\n",
      "conv_pw_6 (Conv2D)           (None, 14, 14, 512)       131072    \n",
      "_________________________________________________________________\n",
      "conv_pw_6_bn (BatchNormaliza (None, 14, 14, 512)       2048      \n",
      "_________________________________________________________________\n",
      "conv_pw_6_relu (ReLU)        (None, 14, 14, 512)       0         \n",
      "_________________________________________________________________\n",
      "conv_dw_7 (DepthwiseConv2D)  (None, 14, 14, 512)       4608      \n",
      "_________________________________________________________________\n",
      "conv_dw_7_bn (BatchNormaliza (None, 14, 14, 512)       2048      \n",
      "_________________________________________________________________\n",
      "conv_dw_7_relu (ReLU)        (None, 14, 14, 512)       0         \n",
      "_________________________________________________________________\n",
      "conv_pw_7 (Conv2D)           (None, 14, 14, 512)       262144    \n",
      "_________________________________________________________________\n",
      "conv_pw_7_bn (BatchNormaliza (None, 14, 14, 512)       2048      \n",
      "_________________________________________________________________\n",
      "conv_pw_7_relu (ReLU)        (None, 14, 14, 512)       0         \n",
      "_________________________________________________________________\n",
      "conv_dw_8 (DepthwiseConv2D)  (None, 14, 14, 512)       4608      \n",
      "_________________________________________________________________\n",
      "conv_dw_8_bn (BatchNormaliza (None, 14, 14, 512)       2048      \n",
      "_________________________________________________________________\n",
      "conv_dw_8_relu (ReLU)        (None, 14, 14, 512)       0         \n",
      "_________________________________________________________________\n",
      "conv_pw_8 (Conv2D)           (None, 14, 14, 512)       262144    \n",
      "_________________________________________________________________\n",
      "conv_pw_8_bn (BatchNormaliza (None, 14, 14, 512)       2048      \n",
      "_________________________________________________________________\n",
      "conv_pw_8_relu (ReLU)        (None, 14, 14, 512)       0         \n",
      "_________________________________________________________________\n",
      "conv_dw_9 (DepthwiseConv2D)  (None, 14, 14, 512)       4608      \n",
      "_________________________________________________________________\n",
      "conv_dw_9_bn (BatchNormaliza (None, 14, 14, 512)       2048      \n",
      "_________________________________________________________________\n",
      "conv_dw_9_relu (ReLU)        (None, 14, 14, 512)       0         \n",
      "_________________________________________________________________\n",
      "conv_pw_9 (Conv2D)           (None, 14, 14, 512)       262144    \n",
      "_________________________________________________________________\n",
      "conv_pw_9_bn (BatchNormaliza (None, 14, 14, 512)       2048      \n",
      "_________________________________________________________________\n",
      "conv_pw_9_relu (ReLU)        (None, 14, 14, 512)       0         \n",
      "_________________________________________________________________\n",
      "conv_dw_10 (DepthwiseConv2D) (None, 14, 14, 512)       4608      \n",
      "_________________________________________________________________\n",
      "conv_dw_10_bn (BatchNormaliz (None, 14, 14, 512)       2048      \n",
      "_________________________________________________________________\n",
      "conv_dw_10_relu (ReLU)       (None, 14, 14, 512)       0         \n",
      "_________________________________________________________________\n",
      "conv_pw_10 (Conv2D)          (None, 14, 14, 512)       262144    \n",
      "_________________________________________________________________\n",
      "conv_pw_10_bn (BatchNormaliz (None, 14, 14, 512)       2048      \n",
      "_________________________________________________________________\n",
      "conv_pw_10_relu (ReLU)       (None, 14, 14, 512)       0         \n",
      "_________________________________________________________________\n",
      "conv_dw_11 (DepthwiseConv2D) (None, 14, 14, 512)       4608      \n",
      "_________________________________________________________________\n",
      "conv_dw_11_bn (BatchNormaliz (None, 14, 14, 512)       2048      \n",
      "_________________________________________________________________\n",
      "conv_dw_11_relu (ReLU)       (None, 14, 14, 512)       0         \n",
      "_________________________________________________________________\n",
      "conv_pw_11 (Conv2D)          (None, 14, 14, 512)       262144    \n",
      "_________________________________________________________________\n",
      "conv_pw_11_bn (BatchNormaliz (None, 14, 14, 512)       2048      \n",
      "_________________________________________________________________\n",
      "conv_pw_11_relu (ReLU)       (None, 14, 14, 512)       0         \n",
      "_________________________________________________________________\n",
      "conv_pad_12 (ZeroPadding2D)  (None, 15, 15, 512)       0         \n",
      "_________________________________________________________________\n",
      "conv_dw_12 (DepthwiseConv2D) (None, 7, 7, 512)         4608      \n",
      "_________________________________________________________________\n",
      "conv_dw_12_bn (BatchNormaliz (None, 7, 7, 512)         2048      \n",
      "_________________________________________________________________\n",
      "conv_dw_12_relu (ReLU)       (None, 7, 7, 512)         0         \n",
      "_________________________________________________________________\n",
      "conv_pw_12 (Conv2D)          (None, 7, 7, 1024)        524288    \n",
      "_________________________________________________________________\n",
      "conv_pw_12_bn (BatchNormaliz (None, 7, 7, 1024)        4096      \n",
      "_________________________________________________________________\n",
      "conv_pw_12_relu (ReLU)       (None, 7, 7, 1024)        0         \n",
      "_________________________________________________________________\n",
      "conv_dw_13 (DepthwiseConv2D) (None, 7, 7, 1024)        9216      \n",
      "_________________________________________________________________\n",
      "conv_dw_13_bn (BatchNormaliz (None, 7, 7, 1024)        4096      \n",
      "_________________________________________________________________\n",
      "conv_dw_13_relu (ReLU)       (None, 7, 7, 1024)        0         \n",
      "_________________________________________________________________\n",
      "conv_pw_13 (Conv2D)          (None, 7, 7, 1024)        1048576   \n",
      "_________________________________________________________________\n",
      "conv_pw_13_bn (BatchNormaliz (None, 7, 7, 1024)        4096      \n",
      "_________________________________________________________________\n",
      "conv_pw_13_relu (ReLU)       (None, 7, 7, 1024)        0         \n",
      "_________________________________________________________________\n",
      "global_average_pooling2d (Gl (None, 1024)              0         \n",
      "_________________________________________________________________\n",
      "dense (Dense)                (None, 1024)              1049600   \n",
      "_________________________________________________________________\n",
      "dense_1 (Dense)              (None, 1024)              1049600   \n",
      "_________________________________________________________________\n",
      "dense_2 (Dense)              (None, 512)               524800    \n",
      "_________________________________________________________________\n",
      "dense_3 (Dense)              (None, 2)                 1026      \n",
      "=================================================================\n",
      "Total params: 5,853,890\n",
      "Trainable params: 5,832,002\n",
      "Non-trainable params: 21,888\n",
      "_________________________________________________________________\n"
     ]
    }
   ],
   "source": [
    "num_classes = train_generator.num_classes\n",
    "FC_Head = addTopModelMobileNet(MobileNet, num_classes)\n",
    "\n",
    "model = Model(inputs=MobileNet.input, outputs=FC_Head)\n",
    "\n",
    "model.summary()"
   ]
  },
  {
   "cell_type": "code",
   "execution_count": 8,
   "id": "exposed-language",
   "metadata": {},
   "outputs": [],
   "source": [
    "from tensorflow.keras.optimizers import RMSprop, Adam, SGD\n",
    "from tensorflow.keras.callbacks import ModelCheckpoint, EarlyStopping, ReduceLROnPlateau, TensorBoard\n",
    "from datetime import datetime"
   ]
  },
  {
   "cell_type": "code",
   "execution_count": 9,
   "id": "sensitive-sarah",
   "metadata": {},
   "outputs": [
    {
     "name": "stderr",
     "output_type": "stream",
     "text": [
      "Failed to detect the name of this notebook, you can set it manually with the WANDB_NOTEBOOK_NAME environment variable to enable code saving.\n",
      "\u001b[34m\u001b[1mwandb\u001b[0m: Currently logged in as: \u001b[33myhkim\u001b[0m (use `wandb login --relogin` to force relogin)\n",
      "/home/yongho/anaconda3/envs/tensor/lib/python3.7/site-packages/IPython/html.py:14: ShimWarning: The `IPython.html` package has been deprecated since IPython 4.0. You should import from `notebook` instead. `IPython.html.widgets` has moved to `ipywidgets`.\n",
      "  \"`IPython.html.widgets` has moved to `ipywidgets`.\", ShimWarning)\n",
      "2021-10-18 20:52:52.599112: I tensorflow/stream_executor/platform/default/dso_loader.cc:49] Successfully opened dynamic library libcudart.so.10.1\n"
     ]
    },
    {
     "data": {
      "text/html": [
       "\n",
       "                    Syncing run <strong><a href=\"https://wandb.ai/yhkim/KICS_FALL/runs/1judgr9x\" target=\"_blank\">genial-sponge-3</a></strong> to <a href=\"https://wandb.ai/yhkim/KICS_FALL\" target=\"_blank\">Weights & Biases</a> (<a href=\"https://docs.wandb.com/integrations/jupyter.html\" target=\"_blank\">docs</a>).<br/>\n",
       "\n",
       "                "
      ],
      "text/plain": [
       "<IPython.core.display.HTML object>"
      ]
     },
     "metadata": {},
     "output_type": "display_data"
    }
   ],
   "source": [
    "wandb.init(project='KICS_FALL', entity='yhkim')\n",
    "config = wandb.config\n",
    "\n",
    "config.learning_rate = 0.01\n",
    "config.momentum = 0.937\n",
    "config.nesterov = True\n",
    "config.epochs =100"
   ]
  },
  {
   "cell_type": "code",
   "execution_count": 10,
   "id": "economic-thanksgiving",
   "metadata": {},
   "outputs": [],
   "source": [
    "checkpoint = ModelCheckpoint(\n",
    "    'scene_clasification_MobileNet.h5',\n",
    "    monitor='val_loss',\n",
    "    mode='min',\n",
    "    save_best_only=True,\n",
    "    verbose=1\n",
    ")\n",
    "\n",
    "earlystop = EarlyStopping(\n",
    "    monitor='val_loss',\n",
    "    min_delta=0,\n",
    "    patience=10,\n",
    "    verbose=1,\n",
    "    restore_best_weights=True\n",
    ")\n",
    "\n",
    "learning_rate_reduction = ReduceLROnPlateau(monitor='val_accuracy',\n",
    "                                           patience=5,\n",
    "                                           verbose=1,\n",
    "                                           factor=0.2,\n",
    "                                           min_lr=0.0001)\n",
    "\n",
    "# tensorboard = TensorBoard(log_dir=f'./logs/{datetime.now().strftime(\"%Y%m%d-%H%M%S\")}')\n",
    "\n",
    "callbacks = [checkpoint, earlystop, WandbCallback(data_type='image', labels=['not_pitching', 'pitching'])]"
   ]
  },
  {
   "cell_type": "code",
   "execution_count": 11,
   "id": "latin-vegetation",
   "metadata": {},
   "outputs": [],
   "source": [
    "model.compile(loss='categorical_crossentropy',\n",
    "             optimizer=SGD(lr=config.learning_rate, momentum=config.momentum,\n",
    "                           nesterov=config.nesterov),\n",
    "             metrics=['accuracy']\n",
    "             )\n",
    "\n",
    "nb_train_samples = len(train_generator.classes)\n",
    "nb_validation_samples = len(validation_generator.classes)\n",
    "\n",
    "epochs = config.epochs"
   ]
  },
  {
   "cell_type": "code",
   "execution_count": 12,
   "id": "constant-iraqi",
   "metadata": {},
   "outputs": [
    {
     "name": "stderr",
     "output_type": "stream",
     "text": [
      "/home/yongho/anaconda3/envs/tensor/lib/python3.7/site-packages/tensorflow/python/keras/engine/training.py:1844: UserWarning: `Model.fit_generator` is deprecated and will be removed in a future version. Please use `Model.fit`, which supports generators.\n",
      "  warnings.warn('`Model.fit_generator` is deprecated and '\n",
      "2021-10-18 20:52:56.391951: I tensorflow/compiler/mlir/mlir_graph_optimization_pass.cc:116] None of the MLIR optimization passes are enabled (registered 2)\n",
      "2021-10-18 20:52:56.408394: I tensorflow/core/platform/profile_utils/cpu_utils.cc:112] CPU Frequency: 3593330000 Hz\n"
     ]
    },
    {
     "name": "stdout",
     "output_type": "stream",
     "text": [
      "Epoch 1/100\n"
     ]
    },
    {
     "name": "stderr",
     "output_type": "stream",
     "text": [
      "2021-10-18 20:52:57.487140: I tensorflow/stream_executor/platform/default/dso_loader.cc:49] Successfully opened dynamic library libcublas.so.10\n",
      "2021-10-18 20:52:57.774779: I tensorflow/stream_executor/platform/default/dso_loader.cc:49] Successfully opened dynamic library libcudnn.so.7\n"
     ]
    },
    {
     "name": "stdout",
     "output_type": "stream",
     "text": [
      "76/76 [==============================] - 29s 351ms/step - loss: 0.3034 - accuracy: 0.8565 - val_loss: 0.1058 - val_accuracy: 0.9720\n",
      "\n",
      "Epoch 00001: val_loss improved from inf to 0.10576, saving model to scene_clasification_MobileNet.h5\n",
      "Epoch 2/100\n",
      "76/76 [==============================] - 26s 340ms/step - loss: 0.0535 - accuracy: 0.9832 - val_loss: 0.0494 - val_accuracy: 0.9852\n",
      "\n",
      "Epoch 00002: val_loss improved from 0.10576 to 0.04944, saving model to scene_clasification_MobileNet.h5\n",
      "Epoch 3/100\n",
      "76/76 [==============================] - 26s 342ms/step - loss: 0.0283 - accuracy: 0.9909 - val_loss: 0.0577 - val_accuracy: 0.9819\n",
      "\n",
      "Epoch 00003: val_loss did not improve from 0.04944\n",
      "Epoch 4/100\n",
      "76/76 [==============================] - 26s 343ms/step - loss: 0.0130 - accuracy: 0.9966 - val_loss: 0.1033 - val_accuracy: 0.9786\n",
      "\n",
      "Epoch 00004: val_loss did not improve from 0.04944\n",
      "Epoch 5/100\n",
      "76/76 [==============================] - 26s 345ms/step - loss: 0.0111 - accuracy: 0.9972 - val_loss: 0.0793 - val_accuracy: 0.9704\n",
      "\n",
      "Epoch 00005: val_loss did not improve from 0.04944\n",
      "Epoch 6/100\n",
      "76/76 [==============================] - 27s 348ms/step - loss: 0.0233 - accuracy: 0.9917 - val_loss: 0.2922 - val_accuracy: 0.9523\n",
      "\n",
      "Epoch 00006: val_loss did not improve from 0.04944\n",
      "Epoch 7/100\n",
      "76/76 [==============================] - 27s 348ms/step - loss: 0.0050 - accuracy: 0.9978 - val_loss: 0.0645 - val_accuracy: 0.9803\n",
      "\n",
      "Epoch 00007: val_loss did not improve from 0.04944\n",
      "Epoch 8/100\n",
      "76/76 [==============================] - 26s 345ms/step - loss: 0.0174 - accuracy: 0.9934 - val_loss: 0.1061 - val_accuracy: 0.9803\n",
      "\n",
      "Epoch 00008: val_loss did not improve from 0.04944\n",
      "Epoch 9/100\n",
      "76/76 [==============================] - 26s 345ms/step - loss: 0.0170 - accuracy: 0.9956 - val_loss: 0.1031 - val_accuracy: 0.9720\n",
      "\n",
      "Epoch 00009: val_loss did not improve from 0.04944\n",
      "Epoch 10/100\n",
      "76/76 [==============================] - 26s 344ms/step - loss: 0.0154 - accuracy: 0.9949 - val_loss: 0.0850 - val_accuracy: 0.9770\n",
      "\n",
      "Epoch 00010: val_loss did not improve from 0.04944\n",
      "Epoch 11/100\n",
      "76/76 [==============================] - 26s 345ms/step - loss: 0.0148 - accuracy: 0.9953 - val_loss: 0.0946 - val_accuracy: 0.9786\n",
      "\n",
      "Epoch 00011: val_loss did not improve from 0.04944\n",
      "Epoch 12/100\n",
      "76/76 [==============================] - 26s 345ms/step - loss: 0.0028 - accuracy: 0.9984 - val_loss: 0.1165 - val_accuracy: 0.9786\n",
      "\n",
      "Epoch 00012: val_loss did not improve from 0.04944\n",
      "Restoring model weights from the end of the best epoch.\n",
      "Epoch 00012: early stopping\n"
     ]
    }
   ],
   "source": [
    "history = model.fit_generator(train_generator,\n",
    "                              steps_per_epoch=nb_train_samples//batch_size,\n",
    "                              validation_data=validation_generator,\n",
    "                              validation_steps=nb_validation_samples//batch_size,\n",
    "                              epochs=config.epochs,\n",
    "                              callbacks=callbacks,\n",
    "                              )"
   ]
  },
  {
   "cell_type": "code",
   "execution_count": 13,
   "id": "announced-solomon",
   "metadata": {},
   "outputs": [
    {
     "data": {
      "image/png": "[encoded data removed]",
      "text/plain": [
       "<Figure size 432x288 with 1 Axes>"
      ]
     },
     "metadata": {
      "needs_background": "light"
     },
     "output_type": "display_data"
    },
    {
     "data": {
      "image/png": "[encoded data removed]",
      "text/plain": [
       "<Figure size 432x288 with 1 Axes>"
      ]
     },
     "metadata": {
      "needs_background": "light"
     },
     "output_type": "display_data"
    }
   ],
   "source": [
    "history = model.history\n",
    "\n",
    "plt.plot(history.history['accuracy'])\n",
    "plt.plot(history.history['val_accuracy'])\n",
    "\n",
    "plt.title('Model accuracy')\n",
    "plt.xlabel('Epoch')\n",
    "plt.ylabel('Accuracy')\n",
    "plt.legend(['Train', 'Validation'], loc='upper left')\n",
    "plt.show()\n",
    "\n",
    "plt.plot(history.history['loss'])\n",
    "plt.plot(history.history['val_loss'])\n",
    "plt.title('Model loss')\n",
    "plt.xlabel('Epoch')\n",
    "plt.legend(['Train', 'Validation'], loc='upper left')\n",
    "plt.show()"
   ]
  },
  {
   "cell_type": "code",
   "execution_count": 14,
   "id": "radical-shooting",
   "metadata": {},
   "outputs": [
    {
     "name": "stderr",
     "output_type": "stream",
     "text": [
      "2021-10-18 20:58:30.431489: W tensorflow/python/util/util.cc:348] Sets are not currently considered sequences, but this may change in the future, so consider avoiding using them.\n"
     ]
    },
    {
     "name": "stdout",
     "output_type": "stream",
     "text": [
      "INFO:tensorflow:Assets written to: paper_data/assets\n"
     ]
    }
   ],
   "source": [
    "model.save('paper_data')"
   ]
  },
  {
   "cell_type": "code",
   "execution_count": 16,
   "id": "enhanced-isaac",
   "metadata": {},
   "outputs": [],
   "source": [
    "import matplotlib.pyplot as plt\n",
    "import cv2\n",
    "import numpy as np\n",
    "import random\n",
    "from sklearn.metrics import confusion_matrix, classification_report, plot_confusion_matrix, accuracy_score\n",
    "import sklearn"
   ]
  },
  {
   "cell_type": "code",
   "execution_count": 17,
   "id": "trying-nancy",
   "metadata": {},
   "outputs": [],
   "source": [
    "model = load_model('./paper_data')\n",
    "classes = os.listdir('./paper_dataset/train')"
   ]
  },
  {
   "cell_type": "code",
   "execution_count": 18,
   "id": "discrete-detector",
   "metadata": {},
   "outputs": [
    {
     "name": "stdout",
     "output_type": "stream",
     "text": [
      "Found 833 images belonging to 2 classes.\n"
     ]
    }
   ],
   "source": [
    "img_rows, img_cols = 224, 224\n",
    "batch_size = 64\n",
    "\n",
    "test_data_dir = 'paper_dataset/test'\n",
    "test_datagen = ImageDataGenerator(rescale=1./255)\n",
    "test_generator = test_datagen.flow_from_directory(\n",
    "    test_data_dir,\n",
    "    target_size=(img_rows, img_cols),\n",
    "    batch_size=batch_size,\n",
    "    class_mode='categorical',\n",
    "    shuffle=False\n",
    ")"
   ]
  },
  {
   "cell_type": "code",
   "execution_count": 19,
   "id": "threatened-surgeon",
   "metadata": {},
   "outputs": [
    {
     "name": "stderr",
     "output_type": "stream",
     "text": [
      "/home/yongho/anaconda3/envs/tensor/lib/python3.7/site-packages/tensorflow/python/keras/engine/training.py:1905: UserWarning: `Model.predict_generator` is deprecated and will be removed in a future version. Please use `Model.predict`, which supports generators.\n",
      "  warnings.warn('`Model.predict_generator` is deprecated and '\n"
     ]
    },
    {
     "name": "stdout",
     "output_type": "stream",
     "text": [
      "14/14 [==============================] - 4s 238ms/step\n"
     ]
    }
   ],
   "source": [
    "test_generator.reset()\n",
    "Y_pred = model.predict_generator(test_generator, verbose=1)\n",
    "classes = test_generator.classes[test_generator.index_array]\n",
    "y_pred = np.argmax(Y_pred, axis=-1)"
   ]
  },
  {
   "cell_type": "code",
   "execution_count": 20,
   "id": "liberal-belle",
   "metadata": {},
   "outputs": [
    {
     "name": "stdout",
     "output_type": "stream",
     "text": [
      "0.9015606242496998\n"
     ]
    }
   ],
   "source": [
    "print(sum(y_pred==classes)/833)"
   ]
  },
  {
   "cell_type": "markdown",
   "id": "auburn-toner",
   "metadata": {},
   "source": [
    "## Scene Classification"
   ]
  },
  {
   "cell_type": "code",
   "execution_count": 21,
   "id": "proprietary-conversation",
   "metadata": {},
   "outputs": [
    {
     "name": "stdout",
     "output_type": "stream",
     "text": [
      "-- Confusion Matrix --\n",
      "[[656   0]\n",
      " [ 82  95]]\n"
     ]
    }
   ],
   "source": [
    "print('-- Confusion Matrix --')\n",
    "print(confusion_matrix(test_generator.classes[test_generator.index_array], y_pred))"
   ]
  },
  {
   "cell_type": "code",
   "execution_count": 22,
   "id": "fatal-manitoba",
   "metadata": {},
   "outputs": [],
   "source": [
    "class_names = ['not_pitching', 'pitching']"
   ]
  },
  {
   "cell_type": "code",
   "execution_count": 23,
   "id": "suburban-scale",
   "metadata": {},
   "outputs": [
    {
     "name": "stdout",
     "output_type": "stream",
     "text": [
      "              precision    recall  f1-score   support\n",
      "\n",
      "not_pitching       0.89      1.00      0.94       656\n",
      "    pitching       1.00      0.54      0.70       177\n",
      "\n",
      "    accuracy                           0.90       833\n",
      "   macro avg       0.94      0.77      0.82       833\n",
      "weighted avg       0.91      0.90      0.89       833\n",
      "\n"
     ]
    }
   ],
   "source": [
    "print(classification_report(test_generator.classes[test_generator.index_array], y_pred, target_names=class_names))"
   ]
  },
  {
   "cell_type": "markdown",
   "id": "local-seller",
   "metadata": {},
   "source": [
    "## Object Detection"
   ]
  },
  {
   "cell_type": "code",
   "execution_count": 24,
   "id": "aware-punch",
   "metadata": {},
   "outputs": [
    {
     "ename": "FileNotFoundError",
     "evalue": "[Errno 2] No such file or directory: 'od_result'",
     "output_type": "error",
     "traceback": [
      "\u001b[0;31m---------------------------------------------------------------------------\u001b[0m",
      "\u001b[0;31mFileNotFoundError\u001b[0m                         Traceback (most recent call last)",
      "\u001b[0;32m/tmp/ipykernel_4163/1050623370.py\u001b[0m in \u001b[0;36m<module>\u001b[0;34m\u001b[0m\n\u001b[1;32m      5\u001b[0m     \u001b[0mod_true\u001b[0m\u001b[0;34m[\u001b[0m\u001b[0mint\u001b[0m\u001b[0;34m(\u001b[0m\u001b[0mx\u001b[0m\u001b[0;34m.\u001b[0m\u001b[0mreplace\u001b[0m\u001b[0;34m(\u001b[0m\u001b[0;34m'.'\u001b[0m\u001b[0;34m,\u001b[0m\u001b[0;34m'_'\u001b[0m\u001b[0;34m)\u001b[0m\u001b[0;34m.\u001b[0m\u001b[0msplit\u001b[0m\u001b[0;34m(\u001b[0m\u001b[0;34m'_'\u001b[0m\u001b[0;34m)\u001b[0m\u001b[0;34m[\u001b[0m\u001b[0;36m1\u001b[0m\u001b[0;34m]\u001b[0m\u001b[0;34m)\u001b[0m\u001b[0;34m]\u001b[0m \u001b[0;34m=\u001b[0m \u001b[0;36m1\u001b[0m\u001b[0;34m\u001b[0m\u001b[0;34m\u001b[0m\u001b[0m\n\u001b[1;32m      6\u001b[0m \u001b[0;34m\u001b[0m\u001b[0m\n\u001b[0;32m----> 7\u001b[0;31m \u001b[0;32mfor\u001b[0m \u001b[0mx\u001b[0m \u001b[0;32min\u001b[0m \u001b[0mos\u001b[0m\u001b[0;34m.\u001b[0m\u001b[0mlistdir\u001b[0m\u001b[0;34m(\u001b[0m\u001b[0;34m'od_result'\u001b[0m\u001b[0;34m)\u001b[0m\u001b[0;34m:\u001b[0m\u001b[0;34m\u001b[0m\u001b[0;34m\u001b[0m\u001b[0m\n\u001b[0m\u001b[1;32m      8\u001b[0m     \u001b[0mod_predict\u001b[0m\u001b[0;34m[\u001b[0m\u001b[0mint\u001b[0m\u001b[0;34m(\u001b[0m\u001b[0mx\u001b[0m\u001b[0;34m.\u001b[0m\u001b[0mreplace\u001b[0m\u001b[0;34m(\u001b[0m\u001b[0;34m'.'\u001b[0m\u001b[0;34m,\u001b[0m\u001b[0;34m'_'\u001b[0m\u001b[0;34m)\u001b[0m\u001b[0;34m.\u001b[0m\u001b[0msplit\u001b[0m\u001b[0;34m(\u001b[0m\u001b[0;34m'_'\u001b[0m\u001b[0;34m)\u001b[0m\u001b[0;34m[\u001b[0m\u001b[0;36m1\u001b[0m\u001b[0;34m]\u001b[0m\u001b[0;34m)\u001b[0m\u001b[0;34m]\u001b[0m \u001b[0;34m=\u001b[0m \u001b[0;36m1\u001b[0m\u001b[0;34m\u001b[0m\u001b[0;34m\u001b[0m\u001b[0m\n",
      "\u001b[0;31mFileNotFoundError\u001b[0m: [Errno 2] No such file or directory: 'od_result'"
     ]
    }
   ],
   "source": [
    "od_true = np.zeros((833,), dtype=int)\n",
    "od_predict = np.zeros((833,), dtype=int)\n",
    "\n",
    "for x in os.listdir('paper_dataset/test/pitching'):\n",
    "    od_true[int(x.replace('.','_').split('_')[1])] = 1\n",
    "\n",
    "for x in os.listdir('od_result'):\n",
    "    od_predict[int(x.replace('.','_').split('_')[1])] = 1"
   ]
  },
  {
   "cell_type": "code",
   "execution_count": null,
   "id": "convenient-passage",
   "metadata": {},
   "outputs": [],
   "source": [
    "print('-- Confusion Matrix --')\n",
    "print(confusion_matrix(od_true, od_predict))"
   ]
  },
  {
   "cell_type": "code",
   "execution_count": null,
   "id": "revised-agenda",
   "metadata": {},
   "outputs": [],
   "source": [
    "print(classification_report(od_true, od_predict, target_names=class_names))"
   ]
  },
  {
   "cell_type": "code",
   "execution_count": null,
   "id": "polished-invalid",
   "metadata": {},
   "outputs": [],
   "source": [
    "accuracy_score(od_true, od_predict)"
   ]
  },
  {
   "cell_type": "code",
   "execution_count": null,
   "id": "ecological-jacket",
   "metadata": {},
   "outputs": [],
   "source": [
    "scores = model.evaluate_generator(test_generator)\n",
    "print(\"%s: %.2f%%\" %(model.metrics_names[1], scores[1]*100))"
   ]
  },
  {
   "cell_type": "code",
   "execution_count": null,
   "id": "arabic-punishment",
   "metadata": {},
   "outputs": [],
   "source": [
    "model.metrics_names"
   ]
  },
  {
   "cell_type": "code",
   "execution_count": null,
   "id": "dental-modem",
   "metadata": {},
   "outputs": [],
   "source": [
    "# # random_img = random.sample(os.listdir('./paper_dataset/test/not_pitching/'), 1)[0]\n",
    "# img = cv2.imread(f\"./paper_dataset/test/pitching/frame_515.jpg\")\n",
    "# resize_img = cv2.resize(img.astype('float32') / 255, (224, 224))\n",
    "# # print(random_img)\n",
    "\n",
    "# output = model.predict(resize_img[np.newaxis])\n",
    "\n",
    "# plt.title(f\"True : not_pitching       Predict : {'not pitching' if np.argmax(output) == 0 else 'pitching'}\")\n",
    "# plt.imshow(cv2.cvtColor(img, cv2.COLOR_BGR2RGB))\n",
    "# plt.savefig('Predict not_pitching scene', format='jpg')\n",
    "# # cv2.imwrite('Predict pitching scene.jpg', img)\n",
    "# # plt.imsave('Predict pitching scene.jpg', cv2.cvtColor(img, cv2.COLOR_BGR2RGB))"
   ]
  },
  {
   "cell_type": "code",
   "execution_count": null,
   "id": "unauthorized-perth",
   "metadata": {},
   "outputs": [],
   "source": [
    "# outputs = model.predict_generator(test_generator, verbose=1)\n",
    "# np.set_printoptions(formatter={'float': lambda x: \"{0:0.3f}\".format(x)})\n",
    "# print(test_generator.class_indices)\n",
    "# print(outputs)"
   ]
  },
  {
   "cell_type": "code",
   "execution_count": null,
   "id": "vital-brush",
   "metadata": {},
   "outputs": [],
   "source": [
    "# result = []\n",
    "# for x in output:\n",
    "#     result.append(np.argmax(x))"
   ]
  },
  {
   "cell_type": "code",
   "execution_count": null,
   "id": "united-offering",
   "metadata": {},
   "outputs": [],
   "source": [
    "# not_pitching = [x for x in result if x == 0]\n",
    "# pitching = [x for x in result if x == 1]\n",
    "\n",
    "# print(len(not_pitching))\n",
    "# print(len(pitching))"
   ]
  },
  {
   "cell_type": "code",
   "execution_count": null,
   "id": "sunrise-noise",
   "metadata": {},
   "outputs": [],
   "source": [
    "# outputs[213]"
   ]
  },
  {
   "cell_type": "code",
   "execution_count": null,
   "id": "informational-cheat",
   "metadata": {},
   "outputs": [],
   "source": [
    "# import shutil\n",
    "# from glob import glob\n",
    "# from sklearn.model_selection import train_test_split"
   ]
  },
  {
   "cell_type": "code",
   "execution_count": null,
   "id": "historic-remove",
   "metadata": {},
   "outputs": [],
   "source": [
    "# src = '../0310_dataset'\n",
    "# dst = '../0310_dataset/train'"
   ]
  },
  {
   "cell_type": "markdown",
   "id": "sticky-singing",
   "metadata": {},
   "source": [
    "### Train 폴더에 데이터 전부 옮기기"
   ]
  },
  {
   "cell_type": "code",
   "execution_count": null,
   "id": "vanilla-royalty",
   "metadata": {},
   "outputs": [],
   "source": [
    "# dir_list = os.listdir(src)\n",
    "# dir_list.remove('train')\n",
    "# dir_list.remove('validation')\n",
    "# print(dir_list)\n",
    "# cnt = 0\n",
    "# for x in dir_list:\n",
    "#     for y in os.listdir(f'{src}/{x}'):\n",
    "#         if y.endswith('.jpg'):\n",
    "#             print(y)\n",
    "#             shutil.move(f'{src}/{x}/{y}', f'{dst}/{str(cnt).zfill(5)}.jpg')\n",
    "#             shutil.move(f'{src}/{x}/{y.replace(\".jpg\", \".txt\")}', f'{dst}/{str(cnt).zfill(5)}.txt')\n",
    "#             cnt += 1\n",
    "# print(cnt)"
   ]
  },
  {
   "cell_type": "code",
   "execution_count": null,
   "id": "precious-linux",
   "metadata": {},
   "outputs": [],
   "source": [
    "# data = os.listdir(f'{src}/train')\n",
    "# img_list = []\n",
    "\n",
    "# for x in data:\n",
    "#     if x.endswith('.jpg'):\n",
    "#         img_list.append(x)\n",
    "\n",
    "\n",
    "# print(len(img_list))\n",
    "# # print(img_list)\n",
    "\n",
    "# train_img_list, val_img_list = train_test_split(img_list, test_size=0.2, random_state=42)\n",
    "\n",
    "# print(len(train_img_list), len(val_img_list))"
   ]
  },
  {
   "cell_type": "code",
   "execution_count": null,
   "id": "tested-western",
   "metadata": {},
   "outputs": [],
   "source": [
    "# for x in val_img_list:\n",
    "#     shutil.move(f'{src}/train/{x}', f'{src}/validation/{x}')"
   ]
  }
 ],
 "metadata": {
  "kernelspec": {
   "display_name": "tensor",
   "language": "python",
   "name": "tensor"
  },
  "language_info": {
   "codemirror_mode": {
    "name": "ipython",
    "version": 3
   },
   "file_extension": ".py",
   "mimetype": "text/x-python",
   "name": "python",
   "nbconvert_exporter": "python",
   "pygments_lexer": "ipython3",
   "version": "3.8.0"
  }
 },
 "nbformat": 4,
 "nbformat_minor": 5
}
