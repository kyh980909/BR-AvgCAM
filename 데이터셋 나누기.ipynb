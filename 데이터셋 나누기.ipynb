{
 "cells": [
  {
   "cell_type": "code",
   "execution_count": 1,
   "id": "4f4cc96a",
   "metadata": {},
   "outputs": [],
   "source": [
    "import os\n",
    "import shutil"
   ]
  },
  {
   "cell_type": "code",
   "execution_count": 2,
   "id": "8a6abd40",
   "metadata": {},
   "outputs": [],
   "source": [
    "temp = dict()"
   ]
  },
  {
   "cell_type": "code",
   "execution_count": 3,
   "id": "212e08dd",
   "metadata": {},
   "outputs": [],
   "source": [
    "src = 'stanford_dog_20/train'\n",
    "for cls in os.listdir('stanford_dog_20/train'):\n",
    "    temp[cls] = len(os.listdir(f'{src}/{cls}'))"
   ]
  },
  {
   "cell_type": "code",
   "execution_count": 4,
   "id": "8a5b9dd5",
   "metadata": {},
   "outputs": [
    {
     "data": {
      "text/plain": [
       "{'n02085936-Maltese_dog': 151,\n",
       " 'n02086240-Shih-Tzu': 128,\n",
       " 'n02086910-papillon': 117,\n",
       " 'n02088094-Afghan_hound': 143,\n",
       " 'n02090721-Irish_wolfhound': 130,\n",
       " 'n02091831-Saluki': 120,\n",
       " 'n02092002-Scottish_deerhound': 139,\n",
       " 'n02095570-Lakeland_terrier': 118,\n",
       " 'n02095889-Sealyham_terrier': 121,\n",
       " 'n02096051-Airedale': 121,\n",
       " 'n02096177-cairn': 118,\n",
       " 'n02097474-Tibetan_terrier': 123,\n",
       " 'n02107683-Bernese_mountain_dog': 130,\n",
       " 'n02108000-EntleBucher': 121,\n",
       " 'n02110806-basenji': 125,\n",
       " 'n02110958-pug': 120,\n",
       " 'n02111129-Leonberg': 126,\n",
       " 'n02111500-Great_Pyrenees': 127,\n",
       " 'n02111889-Samoyed': 130,\n",
       " 'n02112018-Pomeranian': 131}"
      ]
     },
     "execution_count": 4,
     "metadata": {},
     "output_type": "execute_result"
    }
   ],
   "source": [
    "temp"
   ]
  },
  {
   "cell_type": "code",
   "execution_count": 13,
   "id": "76585b16",
   "metadata": {},
   "outputs": [],
   "source": [
    "sorted_dict = sorted(temp.items(), key = lambda item: item[1], reverse = True)"
   ]
  },
  {
   "cell_type": "code",
   "execution_count": 19,
   "id": "7f13a42a",
   "metadata": {},
   "outputs": [
    {
     "data": {
      "text/plain": [
       "[('n02085936-Maltese_dog', 151),\n",
       " ('n02088094-Afghan_hound', 143),\n",
       " ('n02092002-Scottish_deerhound', 139),\n",
       " ('n02112018-Pomeranian', 131),\n",
       " ('n02090721-Irish_wolfhound', 130),\n",
       " ('n02107683-Bernese_mountain_dog', 130),\n",
       " ('n02111889-Samoyed', 130),\n",
       " ('n02086240-Shih-Tzu', 128),\n",
       " ('n02111500-Great_Pyrenees', 127),\n",
       " ('n02111129-Leonberg', 126)]"
      ]
     },
     "execution_count": 19,
     "metadata": {},
     "output_type": "execute_result"
    }
   ],
   "source": [
    "sorted_dict[:10]"
   ]
  },
  {
   "cell_type": "code",
   "execution_count": 21,
   "id": "3590b042",
   "metadata": {},
   "outputs": [
    {
     "name": "stdout",
     "output_type": "stream",
     "text": [
      "n02085936-Maltese_dog\n",
      "n02088094-Afghan_hound\n",
      "n02092002-Scottish_deerhound\n",
      "n02112018-Pomeranian\n",
      "n02090721-Irish_wolfhound\n",
      "n02107683-Bernese_mountain_dog\n",
      "n02111889-Samoyed\n",
      "n02086240-Shih-Tzu\n",
      "n02111500-Great_Pyrenees\n",
      "n02111129-Leonberg\n"
     ]
    }
   ],
   "source": [
    "src = 'train/'\n",
    "# shutil.copytree(\"\", \"./stanford_dog_10/train/\")\n",
    "\n",
    "for cls in sorted_dict[:10]:\n",
    "    print(cls[0])"
   ]
  },
  {
   "cell_type": "code",
   "execution_count": null,
   "id": "349c2284",
   "metadata": {},
   "outputs": [],
   "source": []
  }
 ],
 "metadata": {
  "kernelspec": {
   "display_name": "tensor",
   "language": "python",
   "name": "tensor"
  },
  "language_info": {
   "codemirror_mode": {
    "name": "ipython",
    "version": 3
   },
   "file_extension": ".py",
   "mimetype": "text/x-python",
   "name": "python",
   "nbconvert_exporter": "python",
   "pygments_lexer": "ipython3",
   "version": "3.7.11"
  }
 },
 "nbformat": 4,
 "nbformat_minor": 5
}
