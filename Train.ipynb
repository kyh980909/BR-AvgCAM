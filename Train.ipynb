{
 "cells": [
  {
   "cell_type": "code",
   "execution_count": 1,
   "id": "front-residence",
   "metadata": {},
   "outputs": [],
   "source": [
    "%matplotlib inline\n",
    "\n",
    "from tensorflow.compat.v1 import ConfigProto\n",
    "from tensorflow.compat.v1 import InteractiveSession\n",
    "\n",
    "import tensorflow as tf\n",
    "from tensorflow.keras.models import Model\n",
    "from tensorflow.keras.preprocessing.image import ImageDataGenerator\n",
    "import numpy as np\n",
    "import cv2\n",
    "import matplotlib.pyplot as plt\n",
    "import random\n",
    "import pathlib\n",
    "\n",
    "from PIL import Image\n",
    "import scipy as sp\n",
    "from scipy.ndimage import label\n",
    "from skimage.measure import regionprops\n",
    "from matplotlib import patches\n",
    "\n",
    "import json\n",
    "import os\n",
    "from PIL import Image\n",
    "\n",
    "import wandb\n",
    "from wandb.keras import WandbCallback\n",
    "\n",
    "config =  ConfigProto()\n",
    "config.gpu_options.per_process_gpu_memory_fraction = 0.8\n",
    "session = InteractiveSession(config=config)"
   ]
  },
  {
   "cell_type": "markdown",
   "id": "hispanic-faith",
   "metadata": {},
   "source": [
    "## 데이터 전처리"
   ]
  },
  {
   "cell_type": "code",
   "execution_count": 2,
   "id": "abroad-format",
   "metadata": {},
   "outputs": [],
   "source": [
    "batch_size = 64\n",
    "IMG_SIZE = 224\n",
    "\n",
    "title = 'VOC2012_7_back'\n",
    "\n",
    "train_dir = f'{title}_dataset/bilateral_filter_train'\n",
    "val_dir = f'{title}_dataset/val'\n",
    "test_dir = f'{title}_dataset/test'"
   ]
  },
  {
   "cell_type": "code",
   "execution_count": 3,
   "id": "peripheral-handy",
   "metadata": {
    "scrolled": true
   },
   "outputs": [
    {
     "name": "stdout",
     "output_type": "stream",
     "text": [
      "Found 1376 images belonging to 8 classes.\n",
      "Found 456 images belonging to 8 classes.\n",
      "Found 472 images belonging to 8 classes.\n"
     ]
    }
   ],
   "source": [
    "np.random.seed(42)\n",
    "\n",
    "train_datagen = ImageDataGenerator(\n",
    "        rescale=1./255,\n",
    "    rotation_range =20,\n",
    "    width_shift_range = 0.2,\n",
    "    height_shift_range=0.2,\n",
    "        horizontal_flip=True)\n",
    "\n",
    "val_datagen = ImageDataGenerator(rescale=1./255)\n",
    "test_datagen = ImageDataGenerator(rescale=1./255)\n",
    "\n",
    "train_ds = train_datagen.flow_from_directory(\n",
    "    train_dir,\n",
    "    batch_size=batch_size,\n",
    "    target_size=(IMG_SIZE,IMG_SIZE),\n",
    "    class_mode='categorical'\n",
    ")\n",
    "\n",
    "val_ds = val_datagen.flow_from_directory(\n",
    "    val_dir,\n",
    "    batch_size=batch_size,\n",
    "    target_size=(IMG_SIZE,IMG_SIZE),\n",
    "    class_mode='categorical'\n",
    ")\n",
    "\n",
    "\n",
    "test_ds = test_datagen.flow_from_directory(\n",
    "    test_dir,\n",
    "    batch_size=batch_size,\n",
    "    target_size=(IMG_SIZE,IMG_SIZE),\n",
    "    class_mode='categorical'\n",
    ")"
   ]
  },
  {
   "cell_type": "code",
   "execution_count": 4,
   "id": "young-plaintiff",
   "metadata": {},
   "outputs": [
    {
     "data": {
      "text/plain": [
       "{'0background': 0,\n",
       " 'aeroplane': 1,\n",
       " 'bird': 2,\n",
       " 'car': 3,\n",
       " 'cat': 4,\n",
       " 'dog': 5,\n",
       " 'person': 6,\n",
       " 'train': 7}"
      ]
     },
     "execution_count": 4,
     "metadata": {},
     "output_type": "execute_result"
    }
   ],
   "source": [
    "train_ds.class_indices"
   ]
  },
  {
   "cell_type": "code",
   "execution_count": 5,
   "id": "rubber-heavy",
   "metadata": {
    "scrolled": true
   },
   "outputs": [
    {
     "name": "stdout",
     "output_type": "stream",
     "text": [
      "Model: \"vgg16\"\n",
      "_________________________________________________________________\n",
      "Layer (type)                 Output Shape              Param #   \n",
      "=================================================================\n",
      "input_1 (InputLayer)         [(None, 224, 224, 3)]     0         \n",
      "_________________________________________________________________\n",
      "block1_conv1 (Conv2D)        (None, 224, 224, 64)      1792      \n",
      "_________________________________________________________________\n",
      "block1_conv2 (Conv2D)        (None, 224, 224, 64)      36928     \n",
      "_________________________________________________________________\n",
      "block1_pool (MaxPooling2D)   (None, 112, 112, 64)      0         \n",
      "_________________________________________________________________\n",
      "block2_conv1 (Conv2D)        (None, 112, 112, 128)     73856     \n",
      "_________________________________________________________________\n",
      "block2_conv2 (Conv2D)        (None, 112, 112, 128)     147584    \n",
      "_________________________________________________________________\n",
      "block2_pool (MaxPooling2D)   (None, 56, 56, 128)       0         \n",
      "_________________________________________________________________\n",
      "block3_conv1 (Conv2D)        (None, 56, 56, 256)       295168    \n",
      "_________________________________________________________________\n",
      "block3_conv2 (Conv2D)        (None, 56, 56, 256)       590080    \n",
      "_________________________________________________________________\n",
      "block3_conv3 (Conv2D)        (None, 56, 56, 256)       590080    \n",
      "_________________________________________________________________\n",
      "block3_pool (MaxPooling2D)   (None, 28, 28, 256)       0         \n",
      "_________________________________________________________________\n",
      "block4_conv1 (Conv2D)        (None, 28, 28, 512)       1180160   \n",
      "_________________________________________________________________\n",
      "block4_conv2 (Conv2D)        (None, 28, 28, 512)       2359808   \n",
      "_________________________________________________________________\n",
      "block4_conv3 (Conv2D)        (None, 28, 28, 512)       2359808   \n",
      "_________________________________________________________________\n",
      "block4_pool (MaxPooling2D)   (None, 14, 14, 512)       0         \n",
      "_________________________________________________________________\n",
      "block5_conv1 (Conv2D)        (None, 14, 14, 512)       2359808   \n",
      "_________________________________________________________________\n",
      "block5_conv2 (Conv2D)        (None, 14, 14, 512)       2359808   \n",
      "_________________________________________________________________\n",
      "block5_conv3 (Conv2D)        (None, 14, 14, 512)       2359808   \n",
      "_________________________________________________________________\n",
      "block5_pool (MaxPooling2D)   (None, 7, 7, 512)         0         \n",
      "=================================================================\n",
      "Total params: 14,714,688\n",
      "Trainable params: 14,714,688\n",
      "Non-trainable params: 0\n",
      "_________________________________________________________________\n"
     ]
    }
   ],
   "source": [
    "vgg_model = tf.keras.applications.VGG16(weights = 'imagenet',\n",
    "                                        include_top = False,\n",
    "                                        input_shape=(IMG_SIZE, IMG_SIZE, 3))\n",
    "vgg_model.summary()"
   ]
  },
  {
   "cell_type": "code",
   "execution_count": 6,
   "id": "5e1e4d63",
   "metadata": {},
   "outputs": [],
   "source": [
    "# model = resnet_model.output\n",
    "# model = tf.keras.layers.Conv2D(filters=2048, kernel_size=(3, 3), padding='same', activation='relu')(model)\n",
    "# model = tf.keras.layers.GlobalAveragePooling2D()(model)\n",
    "# prediction = tf.keras.layers.Dense(len(train_ds.class_indices), activation='softmax')(model)\n",
    "# model = Model(inputs=resnet_model.input, outputs=prediction)\n",
    "# model.summary()"
   ]
  },
  {
   "cell_type": "code",
   "execution_count": 7,
   "id": "welsh-efficiency",
   "metadata": {},
   "outputs": [
    {
     "name": "stdout",
     "output_type": "stream",
     "text": [
      "Model: \"sequential\"\n",
      "_________________________________________________________________\n",
      "Layer (type)                 Output Shape              Param #   \n",
      "=================================================================\n",
      "block1_conv1 (Conv2D)        (None, 224, 224, 64)      1792      \n",
      "_________________________________________________________________\n",
      "block1_conv2 (Conv2D)        (None, 224, 224, 64)      36928     \n",
      "_________________________________________________________________\n",
      "block1_pool (MaxPooling2D)   (None, 112, 112, 64)      0         \n",
      "_________________________________________________________________\n",
      "block2_conv1 (Conv2D)        (None, 112, 112, 128)     73856     \n",
      "_________________________________________________________________\n",
      "block2_conv2 (Conv2D)        (None, 112, 112, 128)     147584    \n",
      "_________________________________________________________________\n",
      "block2_pool (MaxPooling2D)   (None, 56, 56, 128)       0         \n",
      "_________________________________________________________________\n",
      "block3_conv1 (Conv2D)        (None, 56, 56, 256)       295168    \n",
      "_________________________________________________________________\n",
      "block3_conv2 (Conv2D)        (None, 56, 56, 256)       590080    \n",
      "_________________________________________________________________\n",
      "block3_conv3 (Conv2D)        (None, 56, 56, 256)       590080    \n",
      "_________________________________________________________________\n",
      "block3_pool (MaxPooling2D)   (None, 28, 28, 256)       0         \n",
      "_________________________________________________________________\n",
      "block4_conv1 (Conv2D)        (None, 28, 28, 512)       1180160   \n",
      "_________________________________________________________________\n",
      "block4_conv2 (Conv2D)        (None, 28, 28, 512)       2359808   \n",
      "_________________________________________________________________\n",
      "block4_conv3 (Conv2D)        (None, 28, 28, 512)       2359808   \n",
      "_________________________________________________________________\n",
      "block4_pool (MaxPooling2D)   (None, 14, 14, 512)       0         \n",
      "_________________________________________________________________\n",
      "block5_conv1 (Conv2D)        (None, 14, 14, 512)       2359808   \n",
      "_________________________________________________________________\n",
      "block5_conv2 (Conv2D)        (None, 14, 14, 512)       2359808   \n",
      "_________________________________________________________________\n",
      "block5_conv3 (Conv2D)        (None, 14, 14, 512)       2359808   \n",
      "_________________________________________________________________\n",
      "conv2d (Conv2D)              (None, 14, 14, 1024)      4719616   \n",
      "_________________________________________________________________\n",
      "global_average_pooling2d (Gl (None, 1024)              0         \n",
      "_________________________________________________________________\n",
      "dense (Dense)                (None, 8)                 8200      \n",
      "=================================================================\n",
      "Total params: 19,442,504\n",
      "Trainable params: 4,727,816\n",
      "Non-trainable params: 14,714,688\n",
      "_________________________________________________________________\n"
     ]
    }
   ],
   "source": [
    "model = tf.keras.Sequential()\n",
    "\n",
    "for layer in vgg_model.layers[:-1]: # just exclude last layer from copying\n",
    "    model.add(layer)\n",
    "    \n",
    "for layer in model.layers:\n",
    "    layer.trainable = False\n",
    "\n",
    "model.add(tf.keras.layers.Conv2D(filters=1024, kernel_size=(3, 3), padding='same', activation='relu'))\n",
    "model.add(tf.keras.layers.GlobalAveragePooling2D())\n",
    "model.add(tf.keras.layers.Dense(len(train_ds.class_indices), activation='softmax'))\n",
    "model.summary()"
   ]
  },
  {
   "cell_type": "code",
   "execution_count": 8,
   "id": "1f6ed60a",
   "metadata": {},
   "outputs": [
    {
     "name": "stderr",
     "output_type": "stream",
     "text": [
      "Failed to detect the name of this notebook, you can set it manually with the WANDB_NOTEBOOK_NAME environment variable to enable code saving.\n",
      "\u001b[34m\u001b[1mwandb\u001b[0m: Currently logged in as: \u001b[33myhkim\u001b[0m (use `wandb login --relogin` to force relogin)\n",
      "C:\\Users\\KYH\\.conda\\envs\\tensor\\lib\\site-packages\\IPython\\html.py:14: ShimWarning: The `IPython.html` package has been deprecated since IPython 4.0. You should import from `notebook` instead. `IPython.html.widgets` has moved to `ipywidgets`.\n",
      "  \"`IPython.html.widgets` has moved to `ipywidgets`.\", ShimWarning)\n"
     ]
    },
    {
     "data": {
      "text/html": [
       "\n",
       "                    Syncing run <strong><a href=\"https://wandb.ai/yhkim/KICS_winter/runs/pz12dy62\" target=\"_blank\">VGG16_VOC2012_7_back_0103_bilateral_filter</a></strong> to <a href=\"https://wandb.ai/yhkim/KICS_winter\" target=\"_blank\">Weights & Biases</a> (<a href=\"https://docs.wandb.com/integrations/jupyter.html\" target=\"_blank\">docs</a>).<br/>\n",
       "\n",
       "                "
      ],
      "text/plain": [
       "<IPython.core.display.HTML object>"
      ]
     },
     "metadata": {},
     "output_type": "display_data"
    },
    {
     "data": {
      "text/html": [
       "<button onClick=\"this.nextSibling.style.display='block';this.style.display='none';\">Display W&B run</button><iframe src=\"https://wandb.ai/yhkim/KICS_winter/runs/pz12dy62?jupyter=true\" style=\"border:none;width:100%;height:420px;display:none;\"></iframe>"
      ],
      "text/plain": [
       "<wandb.sdk.wandb_run.Run at 0x217ac716c08>"
      ]
     },
     "execution_count": 8,
     "metadata": {},
     "output_type": "execute_result"
    }
   ],
   "source": [
    "wandb.init(project=\"KICS_winter\", entity=\"yhkim\", name=f\"VGG16_{title}_0103_bilateral_filter\",\n",
    "           config = {\n",
    "              \"epochs\": 100,\n",
    "              \"batch_size\": 64,\n",
    "              \"lr\" : 0.0001\n",
    "            })"
   ]
  },
  {
   "cell_type": "code",
   "execution_count": 9,
   "id": "e7563417",
   "metadata": {},
   "outputs": [],
   "source": [
    "config = wandb.config"
   ]
  },
  {
   "cell_type": "code",
   "execution_count": 10,
   "id": "exterior-sixth",
   "metadata": {},
   "outputs": [
    {
     "name": "stdout",
     "output_type": "stream",
     "text": [
      "Epoch 1/100\n",
      "22/22 [==============================] - 17s 760ms/step - loss: 1.9050 - accuracy: 0.2871 - val_loss: 1.5667 - val_accuracy: 0.4912\n",
      "Epoch 2/100\n",
      "22/22 [==============================] - 12s 559ms/step - loss: 1.5420 - accuracy: 0.4797 - val_loss: 1.2380 - val_accuracy: 0.6009\n",
      "Epoch 3/100\n",
      "22/22 [==============================] - 12s 559ms/step - loss: 1.3476 - accuracy: 0.5392 - val_loss: 1.0683 - val_accuracy: 0.6360\n",
      "Epoch 4/100\n",
      "22/22 [==============================] - 12s 564ms/step - loss: 1.2251 - accuracy: 0.5807 - val_loss: 0.9807 - val_accuracy: 0.6689\n",
      "Epoch 5/100\n",
      "22/22 [==============================] - 12s 558ms/step - loss: 1.1554 - accuracy: 0.6112 - val_loss: 0.9274 - val_accuracy: 0.6908\n",
      "Epoch 6/100\n",
      "22/22 [==============================] - 12s 552ms/step - loss: 1.0958 - accuracy: 0.6308 - val_loss: 0.9345 - val_accuracy: 0.6908\n",
      "Epoch 7/100\n",
      "22/22 [==============================] - 12s 550ms/step - loss: 1.0608 - accuracy: 0.6453 - val_loss: 0.9640 - val_accuracy: 0.6535\n",
      "Epoch 8/100\n",
      "22/22 [==============================] - 13s 570ms/step - loss: 1.0227 - accuracy: 0.6497 - val_loss: 0.9367 - val_accuracy: 0.6864\n",
      "Epoch 9/100\n",
      "22/22 [==============================] - 13s 578ms/step - loss: 1.0063 - accuracy: 0.6664 - val_loss: 0.8578 - val_accuracy: 0.6820\n",
      "Epoch 10/100\n",
      "22/22 [==============================] - 12s 566ms/step - loss: 0.9713 - accuracy: 0.6744 - val_loss: 0.8571 - val_accuracy: 0.6930\n",
      "Epoch 11/100\n",
      "22/22 [==============================] - 12s 568ms/step - loss: 0.9391 - accuracy: 0.6751 - val_loss: 0.8403 - val_accuracy: 0.7083\n",
      "Epoch 12/100\n",
      "22/22 [==============================] - 13s 579ms/step - loss: 0.9377 - accuracy: 0.6846 - val_loss: 0.8334 - val_accuracy: 0.7039\n",
      "Epoch 13/100\n",
      "22/22 [==============================] - 13s 591ms/step - loss: 0.9342 - accuracy: 0.6933 - val_loss: 0.8544 - val_accuracy: 0.6886\n",
      "Epoch 14/100\n",
      "22/22 [==============================] - 12s 564ms/step - loss: 0.9156 - accuracy: 0.6962 - val_loss: 0.8832 - val_accuracy: 0.6798\n",
      "Epoch 15/100\n",
      "22/22 [==============================] - 13s 583ms/step - loss: 0.8872 - accuracy: 0.7028 - val_loss: 0.8020 - val_accuracy: 0.7105\n",
      "Epoch 16/100\n",
      "22/22 [==============================] - 13s 569ms/step - loss: 0.8832 - accuracy: 0.7064 - val_loss: 0.8077 - val_accuracy: 0.7215\n",
      "Epoch 17/100\n",
      "22/22 [==============================] - 12s 559ms/step - loss: 0.8718 - accuracy: 0.7166 - val_loss: 0.8622 - val_accuracy: 0.6952\n",
      "Epoch 18/100\n",
      "22/22 [==============================] - 13s 569ms/step - loss: 0.8630 - accuracy: 0.7049 - val_loss: 0.7955 - val_accuracy: 0.7127\n",
      "Epoch 19/100\n",
      "22/22 [==============================] - 12s 560ms/step - loss: 0.8444 - accuracy: 0.7108 - val_loss: 0.7908 - val_accuracy: 0.7105\n",
      "Epoch 20/100\n",
      "22/22 [==============================] - 12s 561ms/step - loss: 0.8139 - accuracy: 0.7224 - val_loss: 0.8018 - val_accuracy: 0.7039\n",
      "Epoch 21/100\n",
      "22/22 [==============================] - 13s 570ms/step - loss: 0.8120 - accuracy: 0.7456 - val_loss: 0.7691 - val_accuracy: 0.7127\n",
      "Epoch 22/100\n",
      "22/22 [==============================] - 12s 565ms/step - loss: 0.7883 - accuracy: 0.7544 - val_loss: 0.8062 - val_accuracy: 0.7127\n",
      "Epoch 23/100\n",
      "22/22 [==============================] - 12s 561ms/step - loss: 0.7836 - accuracy: 0.7427 - val_loss: 0.8030 - val_accuracy: 0.7061\n",
      "Epoch 24/100\n",
      "22/22 [==============================] - 12s 559ms/step - loss: 0.7695 - accuracy: 0.7493 - val_loss: 0.7825 - val_accuracy: 0.7127\n",
      "Epoch 25/100\n",
      "22/22 [==============================] - 12s 560ms/step - loss: 0.7729 - accuracy: 0.7435 - val_loss: 0.8219 - val_accuracy: 0.7018\n",
      "Epoch 26/100\n",
      "22/22 [==============================] - 12s 557ms/step - loss: 0.7734 - accuracy: 0.7435 - val_loss: 0.8693 - val_accuracy: 0.6886\n",
      "Epoch 27/100\n",
      "22/22 [==============================] - 12s 554ms/step - loss: 0.7821 - accuracy: 0.7391 - val_loss: 0.8657 - val_accuracy: 0.6864\n",
      "Epoch 28/100\n",
      "22/22 [==============================] - 12s 556ms/step - loss: 0.7474 - accuracy: 0.7464 - val_loss: 0.8342 - val_accuracy: 0.7039\n",
      "Epoch 29/100\n",
      "22/22 [==============================] - 12s 557ms/step - loss: 0.7523 - accuracy: 0.7493 - val_loss: 0.8352 - val_accuracy: 0.6820\n",
      "Epoch 30/100\n",
      "22/22 [==============================] - 12s 556ms/step - loss: 0.7357 - accuracy: 0.7485 - val_loss: 0.8537 - val_accuracy: 0.6842\n",
      "Epoch 31/100\n",
      "22/22 [==============================] - 12s 557ms/step - loss: 0.7335 - accuracy: 0.7580 - val_loss: 0.9033 - val_accuracy: 0.6842\n",
      "Epoch 32/100\n",
      "22/22 [==============================] - 12s 558ms/step - loss: 0.7127 - accuracy: 0.7602 - val_loss: 0.8244 - val_accuracy: 0.7018\n",
      "Epoch 33/100\n",
      "22/22 [==============================] - 21s 942ms/step - loss: 0.7094 - accuracy: 0.7624 - val_loss: 0.8101 - val_accuracy: 0.6996\n",
      "Epoch 34/100\n",
      "22/22 [==============================] - 24s 1s/step - loss: 0.7176 - accuracy: 0.7696 - val_loss: 0.8639 - val_accuracy: 0.6842\n",
      "Epoch 35/100\n",
      "22/22 [==============================] - 24s 1s/step - loss: 0.7111 - accuracy: 0.7515 - val_loss: 0.8349 - val_accuracy: 0.6908\n",
      "Epoch 36/100\n",
      "22/22 [==============================] - 23s 1s/step - loss: 0.6876 - accuracy: 0.7711 - val_loss: 0.8204 - val_accuracy: 0.6908\n",
      "Epoch 37/100\n",
      "22/22 [==============================] - 24s 1s/step - loss: 0.7022 - accuracy: 0.7740 - val_loss: 0.8889 - val_accuracy: 0.6776\n",
      "Epoch 38/100\n",
      "22/22 [==============================] - 24s 1s/step - loss: 0.6930 - accuracy: 0.7624 - val_loss: 0.8172 - val_accuracy: 0.6952\n",
      "Epoch 39/100\n",
      "22/22 [==============================] - 23s 1s/step - loss: 0.6808 - accuracy: 0.7696 - val_loss: 0.8653 - val_accuracy: 0.6820\n",
      "Epoch 40/100\n",
      "22/22 [==============================] - 24s 1s/step - loss: 0.6968 - accuracy: 0.7689 - val_loss: 0.8673 - val_accuracy: 0.6842\n",
      "Epoch 41/100\n",
      "22/22 [==============================] - 23s 1s/step - loss: 0.6725 - accuracy: 0.7733 - val_loss: 0.8068 - val_accuracy: 0.7039\n",
      "Epoch 42/100\n",
      "22/22 [==============================] - 24s 1s/step - loss: 0.6692 - accuracy: 0.7740 - val_loss: 0.8259 - val_accuracy: 0.6930\n",
      "Epoch 43/100\n",
      "22/22 [==============================] - 23s 1s/step - loss: 0.6517 - accuracy: 0.7936 - val_loss: 0.8764 - val_accuracy: 0.6886\n",
      "Epoch 44/100\n",
      "22/22 [==============================] - 23s 1s/step - loss: 0.6599 - accuracy: 0.7871 - val_loss: 0.8521 - val_accuracy: 0.6952\n",
      "Epoch 45/100\n",
      "22/22 [==============================] - 23s 1s/step - loss: 0.6468 - accuracy: 0.7689 - val_loss: 0.8145 - val_accuracy: 0.7061\n",
      "Epoch 46/100\n",
      "22/22 [==============================] - 24s 1s/step - loss: 0.6440 - accuracy: 0.7856 - val_loss: 0.8828 - val_accuracy: 0.6776\n",
      "Epoch 47/100\n",
      "22/22 [==============================] - 24s 1s/step - loss: 0.6605 - accuracy: 0.7733 - val_loss: 0.8217 - val_accuracy: 0.7039\n",
      "Epoch 48/100\n",
      "22/22 [==============================] - 24s 1s/step - loss: 0.6359 - accuracy: 0.7812 - val_loss: 0.8788 - val_accuracy: 0.7061\n",
      "Epoch 49/100\n",
      "22/22 [==============================] - 24s 1s/step - loss: 0.6528 - accuracy: 0.7747 - val_loss: 0.8246 - val_accuracy: 0.7061\n",
      "Epoch 50/100\n",
      "22/22 [==============================] - 23s 1s/step - loss: 0.6262 - accuracy: 0.7922 - val_loss: 0.8852 - val_accuracy: 0.6864\n",
      "Epoch 51/100\n",
      "22/22 [==============================] - 24s 1s/step - loss: 0.6068 - accuracy: 0.8067 - val_loss: 0.8558 - val_accuracy: 0.6842\n",
      "Epoch 52/100\n",
      "22/22 [==============================] - 24s 1s/step - loss: 0.6277 - accuracy: 0.7834 - val_loss: 0.8499 - val_accuracy: 0.6952\n",
      "Epoch 53/100\n",
      "22/22 [==============================] - 24s 1s/step - loss: 0.6233 - accuracy: 0.7987 - val_loss: 0.8527 - val_accuracy: 0.6908\n",
      "Epoch 54/100\n",
      "22/22 [==============================] - 24s 1s/step - loss: 0.6082 - accuracy: 0.7980 - val_loss: 0.8564 - val_accuracy: 0.6952\n",
      "Epoch 55/100\n",
      "22/22 [==============================] - 23s 1s/step - loss: 0.6089 - accuracy: 0.7951 - val_loss: 0.8090 - val_accuracy: 0.6996\n",
      "Epoch 56/100\n",
      "22/22 [==============================] - 23s 1s/step - loss: 0.6033 - accuracy: 0.8009 - val_loss: 0.9249 - val_accuracy: 0.6842\n",
      "Epoch 57/100\n",
      "22/22 [==============================] - 24s 1s/step - loss: 0.5885 - accuracy: 0.8118 - val_loss: 0.8806 - val_accuracy: 0.6842\n",
      "Epoch 58/100\n"
     ]
    },
    {
     "name": "stdout",
     "output_type": "stream",
     "text": [
      "22/22 [==============================] - 23s 1s/step - loss: 0.5985 - accuracy: 0.8067 - val_loss: 0.8991 - val_accuracy: 0.6732\n",
      "Epoch 59/100\n",
      "22/22 [==============================] - 24s 1s/step - loss: 0.6010 - accuracy: 0.7987 - val_loss: 0.8608 - val_accuracy: 0.6974\n",
      "Epoch 60/100\n",
      "22/22 [==============================] - 23s 1s/step - loss: 0.5826 - accuracy: 0.8001 - val_loss: 0.9240 - val_accuracy: 0.6798\n",
      "Epoch 61/100\n",
      "22/22 [==============================] - 24s 1s/step - loss: 0.5873 - accuracy: 0.8023 - val_loss: 0.8785 - val_accuracy: 0.7039\n",
      "Epoch 62/100\n",
      "22/22 [==============================] - 23s 1s/step - loss: 0.5848 - accuracy: 0.7987 - val_loss: 0.9622 - val_accuracy: 0.6667\n",
      "Epoch 63/100\n",
      "22/22 [==============================] - 23s 1s/step - loss: 0.5966 - accuracy: 0.7943 - val_loss: 0.8630 - val_accuracy: 0.6952\n",
      "Epoch 64/100\n",
      "22/22 [==============================] - 23s 1s/step - loss: 0.5820 - accuracy: 0.8176 - val_loss: 0.8840 - val_accuracy: 0.6886\n",
      "Epoch 65/100\n",
      "22/22 [==============================] - 24s 1s/step - loss: 0.5856 - accuracy: 0.8038 - val_loss: 0.8345 - val_accuracy: 0.7105\n",
      "Epoch 66/100\n",
      "22/22 [==============================] - 23s 1s/step - loss: 0.5679 - accuracy: 0.8212 - val_loss: 0.9036 - val_accuracy: 0.6996\n",
      "Epoch 67/100\n",
      "22/22 [==============================] - 23s 1s/step - loss: 0.5514 - accuracy: 0.8219 - val_loss: 0.9036 - val_accuracy: 0.6886\n",
      "Epoch 68/100\n",
      "22/22 [==============================] - 23s 1s/step - loss: 0.5672 - accuracy: 0.8096 - val_loss: 0.9386 - val_accuracy: 0.6886\n",
      "Epoch 69/100\n",
      "22/22 [==============================] - 23s 1s/step - loss: 0.5682 - accuracy: 0.8125 - val_loss: 0.8242 - val_accuracy: 0.6974\n",
      "Epoch 70/100\n",
      "22/22 [==============================] - 23s 1s/step - loss: 0.5831 - accuracy: 0.8009 - val_loss: 0.8606 - val_accuracy: 0.6952\n",
      "Epoch 71/100\n",
      "22/22 [==============================] - 23s 1s/step - loss: 0.5532 - accuracy: 0.8234 - val_loss: 0.8367 - val_accuracy: 0.7083\n",
      "Epoch 72/100\n",
      "22/22 [==============================] - 23s 1s/step - loss: 0.5498 - accuracy: 0.8183 - val_loss: 0.8028 - val_accuracy: 0.7171\n",
      "Epoch 73/100\n",
      "22/22 [==============================] - 24s 1s/step - loss: 0.5601 - accuracy: 0.8169 - val_loss: 0.9410 - val_accuracy: 0.6908\n",
      "Epoch 74/100\n",
      "22/22 [==============================] - 23s 1s/step - loss: 0.5700 - accuracy: 0.8125 - val_loss: 0.9161 - val_accuracy: 0.6952\n",
      "Epoch 75/100\n",
      "22/22 [==============================] - 23s 1s/step - loss: 0.5505 - accuracy: 0.8118 - val_loss: 0.9098 - val_accuracy: 0.6886\n",
      "Epoch 76/100\n",
      "22/22 [==============================] - 23s 1s/step - loss: 0.5454 - accuracy: 0.8205 - val_loss: 0.8775 - val_accuracy: 0.7039\n",
      "Epoch 77/100\n",
      "22/22 [==============================] - 24s 1s/step - loss: 0.5674 - accuracy: 0.8009 - val_loss: 0.8730 - val_accuracy: 0.7105\n",
      "Epoch 78/100\n",
      "22/22 [==============================] - 23s 1s/step - loss: 0.5528 - accuracy: 0.8190 - val_loss: 0.8841 - val_accuracy: 0.7061\n",
      "Epoch 79/100\n",
      "22/22 [==============================] - 24s 1s/step - loss: 0.5441 - accuracy: 0.8198 - val_loss: 0.8938 - val_accuracy: 0.7061\n",
      "Epoch 80/100\n",
      "22/22 [==============================] - 23s 1s/step - loss: 0.5453 - accuracy: 0.8132 - val_loss: 0.9554 - val_accuracy: 0.6820\n",
      "Epoch 81/100\n",
      "22/22 [==============================] - 24s 1s/step - loss: 0.5514 - accuracy: 0.8154 - val_loss: 0.8998 - val_accuracy: 0.6974\n",
      "Epoch 82/100\n",
      "22/22 [==============================] - 23s 1s/step - loss: 0.5398 - accuracy: 0.8212 - val_loss: 0.9391 - val_accuracy: 0.6996\n",
      "Epoch 83/100\n",
      "22/22 [==============================] - 23s 1s/step - loss: 0.5313 - accuracy: 0.8241 - val_loss: 0.9035 - val_accuracy: 0.6952\n",
      "Epoch 84/100\n",
      "22/22 [==============================] - 24s 1s/step - loss: 0.5118 - accuracy: 0.8328 - val_loss: 0.9470 - val_accuracy: 0.6908\n",
      "Epoch 85/100\n",
      "22/22 [==============================] - 24s 1s/step - loss: 0.5286 - accuracy: 0.8227 - val_loss: 0.8645 - val_accuracy: 0.7018\n",
      "Epoch 86/100\n",
      "22/22 [==============================] - 24s 1s/step - loss: 0.5307 - accuracy: 0.8263 - val_loss: 0.9093 - val_accuracy: 0.6974\n",
      "Epoch 87/100\n",
      "22/22 [==============================] - 24s 1s/step - loss: 0.5257 - accuracy: 0.8256 - val_loss: 0.8555 - val_accuracy: 0.7018\n",
      "Epoch 88/100\n",
      "22/22 [==============================] - 24s 1s/step - loss: 0.5019 - accuracy: 0.8314 - val_loss: 0.9487 - val_accuracy: 0.7018\n",
      "Epoch 89/100\n",
      "22/22 [==============================] - 24s 1s/step - loss: 0.4999 - accuracy: 0.8445 - val_loss: 0.9294 - val_accuracy: 0.6886\n",
      "Epoch 90/100\n",
      "22/22 [==============================] - 24s 1s/step - loss: 0.5278 - accuracy: 0.8198 - val_loss: 0.8962 - val_accuracy: 0.6864\n",
      "Epoch 91/100\n",
      "22/22 [==============================] - 24s 1s/step - loss: 0.5157 - accuracy: 0.8227 - val_loss: 0.8605 - val_accuracy: 0.6974\n",
      "Epoch 92/100\n",
      "22/22 [==============================] - 24s 1s/step - loss: 0.5072 - accuracy: 0.8350 - val_loss: 0.8985 - val_accuracy: 0.7061\n",
      "Epoch 93/100\n",
      "22/22 [==============================] - 24s 1s/step - loss: 0.5064 - accuracy: 0.8358 - val_loss: 0.9600 - val_accuracy: 0.6908\n",
      "Epoch 94/100\n",
      "22/22 [==============================] - 24s 1s/step - loss: 0.5169 - accuracy: 0.8314 - val_loss: 0.9569 - val_accuracy: 0.6930\n",
      "Epoch 95/100\n",
      "22/22 [==============================] - 24s 1s/step - loss: 0.5229 - accuracy: 0.8118 - val_loss: 0.9184 - val_accuracy: 0.7018\n",
      "Epoch 96/100\n",
      "22/22 [==============================] - 24s 1s/step - loss: 0.5118 - accuracy: 0.8285 - val_loss: 0.9293 - val_accuracy: 0.6908\n",
      "Epoch 97/100\n",
      "22/22 [==============================] - 24s 1s/step - loss: 0.5096 - accuracy: 0.8365 - val_loss: 0.8955 - val_accuracy: 0.7061\n",
      "Epoch 98/100\n",
      "22/22 [==============================] - 24s 1s/step - loss: 0.4930 - accuracy: 0.8496 - val_loss: 0.9532 - val_accuracy: 0.6864\n",
      "Epoch 99/100\n",
      "22/22 [==============================] - 24s 1s/step - loss: 0.4768 - accuracy: 0.8496 - val_loss: 0.9024 - val_accuracy: 0.7018\n",
      "Epoch 100/100\n",
      "22/22 [==============================] - 24s 1s/step - loss: 0.4762 - accuracy: 0.8452 - val_loss: 0.9156 - val_accuracy: 0.7083\n"
     ]
    },
    {
     "data": {
      "text/html": [
       "<br/>Waiting for W&B process to finish, PID 10344... <strong style=\"color:green\">(success).</strong>"
      ],
      "text/plain": [
       "<IPython.core.display.HTML object>"
      ]
     },
     "metadata": {},
     "output_type": "display_data"
    },
    {
     "data": {
      "text/html": [
       "<style>\n",
       "    table.wandb td:nth-child(1) { padding: 0 10px; text-align: right }\n",
       "    .wandb-row { display: flex; flex-direction: row; flex-wrap: wrap; width: 100% }\n",
       "    .wandb-col { display: flex; flex-direction: column; flex-basis: 100%; flex: 1; padding: 10px; }\n",
       "    </style>\n",
       "<div class=\"wandb-row\"><div class=\"wandb-col\">\n",
       "<h3>Run history:</h3><br/><table class=\"wandb\"><tr><td>accuracy</td><td>▁▄▅▆▆▆▆▆▇▇▇▇▇▇▇▇▇▇▇▇█▇▇▇▇█████▇█████████</td></tr><tr><td>epoch</td><td>▁▁▁▁▂▂▂▂▂▃▃▃▃▃▃▄▄▄▄▄▅▅▅▅▅▅▆▆▆▆▆▇▇▇▇▇▇███</td></tr><tr><td>loss</td><td>█▅▄▄▃▃▃▃▃▃▂▂▂▂▂▂▂▂▂▂▂▂▂▂▂▂▁▁▁▁▁▁▁▁▁▁▁▁▁▁</td></tr><tr><td>val_accuracy</td><td>▁▅▇▇█▇████▇▇▇▇▇▇▇▇▇█▇▇▇▇▇▇▇▇█▇██▇▇▇▇█▇██</td></tr><tr><td>val_loss</td><td>█▄▂▂▂▂▁▁▁▁▂▂▂▂▁▂▁▂▂▁▂▂▂▂▂▂▂▁▁▂▂▂▂▃▂▂▂▃▂▂</td></tr></table><br/></div><div class=\"wandb-col\">\n",
       "<h3>Run summary:</h3><br/><table class=\"wandb\"><tr><td>accuracy</td><td>0.8452</td></tr><tr><td>best_epoch</td><td>20</td></tr><tr><td>best_val_loss</td><td>0.76915</td></tr><tr><td>epoch</td><td>99</td></tr><tr><td>loss</td><td>0.47618</td></tr><tr><td>val_accuracy</td><td>0.70833</td></tr><tr><td>val_loss</td><td>0.91564</td></tr></table>\n",
       "</div></div>\n",
       "Synced 6 W&B file(s), 1 media file(s), 0 artifact file(s) and 1 other file(s)\n",
       "<br/>Synced <strong style=\"color:#cdcd00\">VGG16_VOC2012_7_back_0103_bilateral_filter</strong>: <a href=\"https://wandb.ai/yhkim/KICS_winter/runs/pz12dy62\" target=\"_blank\">https://wandb.ai/yhkim/KICS_winter/runs/pz12dy62</a><br/>\n",
       "Find logs at: <code>.\\wandb\\run-20220103_130840-pz12dy62\\logs</code><br/>\n"
      ],
      "text/plain": [
       "<IPython.core.display.HTML object>"
      ]
     },
     "metadata": {},
     "output_type": "display_data"
    }
   ],
   "source": [
    "model.compile(optimizer=tf.optimizers.Adam(learning_rate=config.lr), \n",
    "              loss=tf.keras.losses.categorical_crossentropy,\n",
    "              metrics=[\"accuracy\"])\n",
    "\n",
    "\n",
    "history = model.fit(train_ds,\n",
    "                    epochs=config.epochs,\n",
    "                    batch_size=config.batch_size,\n",
    "                    validation_data=val_ds,\n",
    "                    callbacks=[WandbCallback()]\n",
    "                   )\n",
    "\n",
    "wandb.finish()"
   ]
  },
  {
   "cell_type": "code",
   "execution_count": 11,
   "id": "focused-graham",
   "metadata": {},
   "outputs": [
    {
     "data": {
      "image/png": "[encoded data removed]",
      "text/plain": [
       "<Figure size 432x288 with 1 Axes>"
      ]
     },
     "metadata": {
      "needs_background": "light"
     },
     "output_type": "display_data"
    }
   ],
   "source": [
    "plt.plot(history.history['accuracy'])\n",
    "plt.plot(history.history['val_accuracy'])\n",
    "plt.title('model accuracy')\n",
    "plt.ylabel('accuracy')\n",
    "plt.xlabel('epoch')\n",
    "plt.legend(['train', 'test'], loc='upper left')\n",
    "plt.show()"
   ]
  },
  {
   "cell_type": "code",
   "execution_count": 12,
   "id": "organizational-level",
   "metadata": {},
   "outputs": [
    {
     "data": {
      "image/png": "[encoded data removed]",
      "text/plain": [
       "<Figure size 432x288 with 1 Axes>"
      ]
     },
     "metadata": {
      "needs_background": "light"
     },
     "output_type": "display_data"
    }
   ],
   "source": [
    "plt.plot(history.history['loss'])\n",
    "plt.plot(history.history['val_loss'])\n",
    "plt.title('model loss')\n",
    "plt.ylabel('loss')\n",
    "plt.xlabel('epoch')\n",
    "plt.legend(['train', 'test'], loc='upper left')\n",
    "plt.show()"
   ]
  },
  {
   "cell_type": "code",
   "execution_count": 13,
   "id": "caring-transmission",
   "metadata": {},
   "outputs": [
    {
     "name": "stdout",
     "output_type": "stream",
     "text": [
      "WARNING:tensorflow:From C:\\Users\\KYH\\.conda\\envs\\tensor\\lib\\site-packages\\tensorflow\\python\\training\\tracking\\tracking.py:111: Model.state_updates (from tensorflow.python.keras.engine.training) is deprecated and will be removed in a future version.\n",
      "Instructions for updating:\n",
      "This property should not be used in TensorFlow 2.0, as updates are applied automatically.\n",
      "WARNING:tensorflow:From C:\\Users\\KYH\\.conda\\envs\\tensor\\lib\\site-packages\\tensorflow\\python\\training\\tracking\\tracking.py:111: Layer.updates (from tensorflow.python.keras.engine.base_layer) is deprecated and will be removed in a future version.\n",
      "Instructions for updating:\n",
      "This property should not be used in TensorFlow 2.0, as updates are applied automatically.\n",
      "INFO:tensorflow:Assets written to: VGG16_VOC2012_7_back_0103_bilateral_filter\\assets\n"
     ]
    }
   ],
   "source": [
    "model.save(f'VGG16_{title}_0103_bilateral_filter')"
   ]
  },
  {
   "cell_type": "code",
   "execution_count": 14,
   "id": "guilty-anatomy",
   "metadata": {},
   "outputs": [
    {
     "name": "stdout",
     "output_type": "stream",
     "text": [
      "8/8 [==============================] - 9s 1s/step - loss: 0.9855 - accuracy: 0.6864\n"
     ]
    },
    {
     "data": {
      "text/plain": [
       "[0.9855309128761292, 0.6864407062530518]"
      ]
     },
     "execution_count": 14,
     "metadata": {},
     "output_type": "execute_result"
    }
   ],
   "source": [
    "model.evaluate(test_ds)"
   ]
  },
  {
   "cell_type": "code",
   "execution_count": 15,
   "id": "virgin-throat",
   "metadata": {},
   "outputs": [],
   "source": [
    "json.dump(history.history, open(f'VGG16_{title}_0103_bilateral_filter.json', 'w'))"
   ]
  }
 ],
 "metadata": {
  "kernelspec": {
   "display_name": "tensor",
   "language": "python",
   "name": "tensor"
  },
  "language_info": {
   "codemirror_mode": {
    "name": "ipython",
    "version": 3
   },
   "file_extension": ".py",
   "mimetype": "text/x-python",
   "name": "python",
   "nbconvert_exporter": "python",
   "pygments_lexer": "ipython3",
   "version": "3.7.11"
  }
 },
 "nbformat": 4,
 "nbformat_minor": 5
}
