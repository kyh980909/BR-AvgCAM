{
 "cells": [
  {
   "cell_type": "code",
   "execution_count": 1,
   "id": "unavailable-feeding",
   "metadata": {},
   "outputs": [
    {
     "name": "stderr",
     "output_type": "stream",
     "text": [
      "2021-10-18 23:35:15.683665: I tensorflow/stream_executor/platform/default/dso_loader.cc:49] Successfully opened dynamic library libcudart.so.10.1\n"
     ]
    }
   ],
   "source": [
    "from tensorflow.keras.applications import VGG16\n",
    "from tensorflow.keras.models import Sequential, Model\n",
    "from tensorflow.keras.layers import Dense, Dropout, Activation, Flatten, GlobalAveragePooling2D\n",
    "from tensorflow.keras.layers import Conv2D, MaxPooling2D, ZeroPadding2D\n",
    "from tensorflow.keras.layers import BatchNormalization\n",
    "from tensorflow.keras.preprocessing.image import ImageDataGenerator\n",
    "from tensorflow.keras.models import load_model\n",
    "\n",
    "import matplotlib.pyplot as plt\n",
    "\n",
    "import wandb\n",
    "from wandb.keras import WandbCallback\n",
    "\n",
    "import os"
   ]
  },
  {
   "cell_type": "code",
   "execution_count": 2,
   "id": "furnished-cambodia",
   "metadata": {},
   "outputs": [
    {
     "name": "stderr",
     "output_type": "stream",
     "text": [
      "2021-10-18 23:35:16.712055: I tensorflow/core/platform/cpu_feature_guard.cc:142] This TensorFlow binary is optimized with oneAPI Deep Neural Network Library (oneDNN) to use the following CPU instructions in performance-critical operations:  SSE4.1 SSE4.2 AVX AVX2 FMA\n",
      "To enable them in other operations, rebuild TensorFlow with the appropriate compiler flags.\n",
      "2021-10-18 23:35:16.713747: I tensorflow/stream_executor/platform/default/dso_loader.cc:49] Successfully opened dynamic library libcuda.so.1\n",
      "2021-10-18 23:35:16.756189: I tensorflow/stream_executor/cuda/cuda_gpu_executor.cc:941] successful NUMA node read from SysFS had negative value (-1), but there must be at least one NUMA node, so returning NUMA node zero\n",
      "2021-10-18 23:35:16.756712: I tensorflow/core/common_runtime/gpu/gpu_device.cc:1720] Found device 0 with properties: \n",
      "pciBusID: 0000:08:00.0 name: NVIDIA GeForce GTX 1660 SUPER computeCapability: 7.5\n",
      "coreClock: 1.86GHz coreCount: 22 deviceMemorySize: 5.80GiB deviceMemoryBandwidth: 312.97GiB/s\n",
      "2021-10-18 23:35:16.756732: I tensorflow/stream_executor/platform/default/dso_loader.cc:49] Successfully opened dynamic library libcudart.so.10.1\n",
      "2021-10-18 23:35:16.758067: I tensorflow/stream_executor/platform/default/dso_loader.cc:49] Successfully opened dynamic library libcublas.so.10\n",
      "2021-10-18 23:35:16.758101: I tensorflow/stream_executor/platform/default/dso_loader.cc:49] Successfully opened dynamic library libcublasLt.so.10\n",
      "2021-10-18 23:35:16.759416: I tensorflow/stream_executor/platform/default/dso_loader.cc:49] Successfully opened dynamic library libcufft.so.10\n",
      "2021-10-18 23:35:16.759619: I tensorflow/stream_executor/platform/default/dso_loader.cc:49] Successfully opened dynamic library libcurand.so.10\n",
      "2021-10-18 23:35:16.760828: I tensorflow/stream_executor/platform/default/dso_loader.cc:49] Successfully opened dynamic library libcusolver.so.10\n",
      "2021-10-18 23:35:16.761357: I tensorflow/stream_executor/platform/default/dso_loader.cc:49] Successfully opened dynamic library libcusparse.so.10\n",
      "2021-10-18 23:35:16.763359: I tensorflow/stream_executor/platform/default/dso_loader.cc:49] Successfully opened dynamic library libcudnn.so.7\n",
      "2021-10-18 23:35:16.763459: I tensorflow/stream_executor/cuda/cuda_gpu_executor.cc:941] successful NUMA node read from SysFS had negative value (-1), but there must be at least one NUMA node, so returning NUMA node zero\n",
      "2021-10-18 23:35:16.763967: I tensorflow/stream_executor/cuda/cuda_gpu_executor.cc:941] successful NUMA node read from SysFS had negative value (-1), but there must be at least one NUMA node, so returning NUMA node zero\n",
      "2021-10-18 23:35:16.764305: I tensorflow/core/common_runtime/gpu/gpu_device.cc:1862] Adding visible gpu devices: 0\n",
      "2021-10-18 23:35:16.764331: I tensorflow/stream_executor/platform/default/dso_loader.cc:49] Successfully opened dynamic library libcudart.so.10.1\n",
      "2021-10-18 23:35:17.121981: I tensorflow/core/common_runtime/gpu/gpu_device.cc:1261] Device interconnect StreamExecutor with strength 1 edge matrix:\n",
      "2021-10-18 23:35:17.122006: I tensorflow/core/common_runtime/gpu/gpu_device.cc:1267]      0 \n",
      "2021-10-18 23:35:17.122012: I tensorflow/core/common_runtime/gpu/gpu_device.cc:1280] 0:   N \n",
      "2021-10-18 23:35:17.122169: I tensorflow/stream_executor/cuda/cuda_gpu_executor.cc:941] successful NUMA node read from SysFS had negative value (-1), but there must be at least one NUMA node, so returning NUMA node zero\n",
      "2021-10-18 23:35:17.122533: I tensorflow/stream_executor/cuda/cuda_gpu_executor.cc:941] successful NUMA node read from SysFS had negative value (-1), but there must be at least one NUMA node, so returning NUMA node zero\n",
      "2021-10-18 23:35:17.122869: I tensorflow/stream_executor/cuda/cuda_gpu_executor.cc:941] successful NUMA node read from SysFS had negative value (-1), but there must be at least one NUMA node, so returning NUMA node zero\n",
      "2021-10-18 23:35:17.123187: I tensorflow/core/common_runtime/gpu/gpu_device.cc:1406] Created TensorFlow device (/job:localhost/replica:0/task:0/device:GPU:0 with 4753 MB memory) -> physical GPU (device: 0, name: NVIDIA GeForce GTX 1660 SUPER, pci bus id: 0000:08:00.0, compute capability: 7.5)\n",
      "2021-10-18 23:35:17.123346: I tensorflow/compiler/jit/xla_gpu_device.cc:99] Not creating XLA devices, tf_xla_enable_xla_devices not set\n"
     ]
    }
   ],
   "source": [
    "import tensorflow as tf\n",
    "\n",
    "os.environ['CUDA_VISIBLE_DEVICES'] = '0' # 초기화 할 GPU Number\n",
    "config = tf.compat.v1.ConfigProto()\n",
    "config.gpu_options.per_process_gpu_memory_fraction = 0.8\n",
    "sess = tf.compat.v1.Session(config=config)"
   ]
  },
  {
   "cell_type": "code",
   "execution_count": 3,
   "id": "ffcb38c1",
   "metadata": {},
   "outputs": [],
   "source": [
    "IMG_SIZE = 224\n",
    "BATCH_SIZE = 32"
   ]
  },
  {
   "cell_type": "code",
   "execution_count": 4,
   "id": "handled-demographic",
   "metadata": {},
   "outputs": [
    {
     "name": "stderr",
     "output_type": "stream",
     "text": [
      "2021-10-18 23:35:17.147198: I tensorflow/compiler/jit/xla_cpu_device.cc:41] Not creating XLA devices, tf_xla_enable_xla_devices not set\n",
      "2021-10-18 23:35:17.147370: I tensorflow/stream_executor/cuda/cuda_gpu_executor.cc:941] successful NUMA node read from SysFS had negative value (-1), but there must be at least one NUMA node, so returning NUMA node zero\n",
      "2021-10-18 23:35:17.147844: I tensorflow/core/common_runtime/gpu/gpu_device.cc:1720] Found device 0 with properties: \n",
      "pciBusID: 0000:08:00.0 name: NVIDIA GeForce GTX 1660 SUPER computeCapability: 7.5\n",
      "coreClock: 1.86GHz coreCount: 22 deviceMemorySize: 5.80GiB deviceMemoryBandwidth: 312.97GiB/s\n",
      "2021-10-18 23:35:17.147868: I tensorflow/stream_executor/platform/default/dso_loader.cc:49] Successfully opened dynamic library libcudart.so.10.1\n",
      "2021-10-18 23:35:17.147890: I tensorflow/stream_executor/platform/default/dso_loader.cc:49] Successfully opened dynamic library libcublas.so.10\n",
      "2021-10-18 23:35:17.147902: I tensorflow/stream_executor/platform/default/dso_loader.cc:49] Successfully opened dynamic library libcublasLt.so.10\n",
      "2021-10-18 23:35:17.147912: I tensorflow/stream_executor/platform/default/dso_loader.cc:49] Successfully opened dynamic library libcufft.so.10\n",
      "2021-10-18 23:35:17.147922: I tensorflow/stream_executor/platform/default/dso_loader.cc:49] Successfully opened dynamic library libcurand.so.10\n",
      "2021-10-18 23:35:17.147932: I tensorflow/stream_executor/platform/default/dso_loader.cc:49] Successfully opened dynamic library libcusolver.so.10\n",
      "2021-10-18 23:35:17.147943: I tensorflow/stream_executor/platform/default/dso_loader.cc:49] Successfully opened dynamic library libcusparse.so.10\n",
      "2021-10-18 23:35:17.147952: I tensorflow/stream_executor/platform/default/dso_loader.cc:49] Successfully opened dynamic library libcudnn.so.7\n",
      "2021-10-18 23:35:17.148002: I tensorflow/stream_executor/cuda/cuda_gpu_executor.cc:941] successful NUMA node read from SysFS had negative value (-1), but there must be at least one NUMA node, so returning NUMA node zero\n",
      "2021-10-18 23:35:17.148483: I tensorflow/stream_executor/cuda/cuda_gpu_executor.cc:941] successful NUMA node read from SysFS had negative value (-1), but there must be at least one NUMA node, so returning NUMA node zero\n",
      "2021-10-18 23:35:17.148926: I tensorflow/core/common_runtime/gpu/gpu_device.cc:1862] Adding visible gpu devices: 0\n",
      "2021-10-18 23:35:17.149157: I tensorflow/stream_executor/cuda/cuda_gpu_executor.cc:941] successful NUMA node read from SysFS had negative value (-1), but there must be at least one NUMA node, so returning NUMA node zero\n",
      "2021-10-18 23:35:17.149511: I tensorflow/core/common_runtime/gpu/gpu_device.cc:1720] Found device 0 with properties: \n",
      "pciBusID: 0000:08:00.0 name: NVIDIA GeForce GTX 1660 SUPER computeCapability: 7.5\n",
      "coreClock: 1.86GHz coreCount: 22 deviceMemorySize: 5.80GiB deviceMemoryBandwidth: 312.97GiB/s\n",
      "2021-10-18 23:35:17.149522: I tensorflow/stream_executor/platform/default/dso_loader.cc:49] Successfully opened dynamic library libcudart.so.10.1\n",
      "2021-10-18 23:35:17.149531: I tensorflow/stream_executor/platform/default/dso_loader.cc:49] Successfully opened dynamic library libcublas.so.10\n",
      "2021-10-18 23:35:17.149538: I tensorflow/stream_executor/platform/default/dso_loader.cc:49] Successfully opened dynamic library libcublasLt.so.10\n",
      "2021-10-18 23:35:17.149545: I tensorflow/stream_executor/platform/default/dso_loader.cc:49] Successfully opened dynamic library libcufft.so.10\n",
      "2021-10-18 23:35:17.149551: I tensorflow/stream_executor/platform/default/dso_loader.cc:49] Successfully opened dynamic library libcurand.so.10\n",
      "2021-10-18 23:35:17.149557: I tensorflow/stream_executor/platform/default/dso_loader.cc:49] Successfully opened dynamic library libcusolver.so.10\n",
      "2021-10-18 23:35:17.149564: I tensorflow/stream_executor/platform/default/dso_loader.cc:49] Successfully opened dynamic library libcusparse.so.10\n",
      "2021-10-18 23:35:17.149570: I tensorflow/stream_executor/platform/default/dso_loader.cc:49] Successfully opened dynamic library libcudnn.so.7\n",
      "2021-10-18 23:35:17.149601: I tensorflow/stream_executor/cuda/cuda_gpu_executor.cc:941] successful NUMA node read from SysFS had negative value (-1), but there must be at least one NUMA node, so returning NUMA node zero\n",
      "2021-10-18 23:35:17.149928: I tensorflow/stream_executor/cuda/cuda_gpu_executor.cc:941] successful NUMA node read from SysFS had negative value (-1), but there must be at least one NUMA node, so returning NUMA node zero\n",
      "2021-10-18 23:35:17.150225: I tensorflow/core/common_runtime/gpu/gpu_device.cc:1862] Adding visible gpu devices: 0\n",
      "2021-10-18 23:35:17.150244: I tensorflow/core/common_runtime/gpu/gpu_device.cc:1261] Device interconnect StreamExecutor with strength 1 edge matrix:\n",
      "2021-10-18 23:35:17.150248: I tensorflow/core/common_runtime/gpu/gpu_device.cc:1267]      0 \n",
      "2021-10-18 23:35:17.150252: I tensorflow/core/common_runtime/gpu/gpu_device.cc:1280] 0:   N \n",
      "2021-10-18 23:35:17.150305: I tensorflow/stream_executor/cuda/cuda_gpu_executor.cc:941] successful NUMA node read from SysFS had negative value (-1), but there must be at least one NUMA node, so returning NUMA node zero\n",
      "2021-10-18 23:35:17.150632: I tensorflow/stream_executor/cuda/cuda_gpu_executor.cc:941] successful NUMA node read from SysFS had negative value (-1), but there must be at least one NUMA node, so returning NUMA node zero\n",
      "2021-10-18 23:35:17.150934: I tensorflow/core/common_runtime/gpu/gpu_device.cc:1406] Created TensorFlow device (/job:localhost/replica:0/task:0/device:GPU:0 with 4753 MB memory) -> physical GPU (device: 0, name: NVIDIA GeForce GTX 1660 SUPER, pci bus id: 0000:08:00.0, compute capability: 7.5)\n",
      "2021-10-18 23:35:17.150944: I tensorflow/compiler/jit/xla_gpu_device.cc:99] Not creating XLA devices, tf_xla_enable_xla_devices not set\n"
     ]
    },
    {
     "name": "stdout",
     "output_type": "stream",
     "text": [
      "Model: \"vgg16\"\n",
      "_________________________________________________________________\n",
      "Layer (type)                 Output Shape              Param #   \n",
      "=================================================================\n",
      "input_1 (InputLayer)         [(None, 224, 224, 3)]     0         \n",
      "_________________________________________________________________\n",
      "block1_conv1 (Conv2D)        (None, 224, 224, 64)      1792      \n",
      "_________________________________________________________________\n",
      "block1_conv2 (Conv2D)        (None, 224, 224, 64)      36928     \n",
      "_________________________________________________________________\n",
      "block1_pool (MaxPooling2D)   (None, 112, 112, 64)      0         \n",
      "_________________________________________________________________\n",
      "block2_conv1 (Conv2D)        (None, 112, 112, 128)     73856     \n",
      "_________________________________________________________________\n",
      "block2_conv2 (Conv2D)        (None, 112, 112, 128)     147584    \n",
      "_________________________________________________________________\n",
      "block2_pool (MaxPooling2D)   (None, 56, 56, 128)       0         \n",
      "_________________________________________________________________\n",
      "block3_conv1 (Conv2D)        (None, 56, 56, 256)       295168    \n",
      "_________________________________________________________________\n",
      "block3_conv2 (Conv2D)        (None, 56, 56, 256)       590080    \n",
      "_________________________________________________________________\n",
      "block3_conv3 (Conv2D)        (None, 56, 56, 256)       590080    \n",
      "_________________________________________________________________\n",
      "block3_pool (MaxPooling2D)   (None, 28, 28, 256)       0         \n",
      "_________________________________________________________________\n",
      "block4_conv1 (Conv2D)        (None, 28, 28, 512)       1180160   \n",
      "_________________________________________________________________\n",
      "block4_conv2 (Conv2D)        (None, 28, 28, 512)       2359808   \n",
      "_________________________________________________________________\n",
      "block4_conv3 (Conv2D)        (None, 28, 28, 512)       2359808   \n",
      "_________________________________________________________________\n",
      "block4_pool (MaxPooling2D)   (None, 14, 14, 512)       0         \n",
      "_________________________________________________________________\n",
      "block5_conv1 (Conv2D)        (None, 14, 14, 512)       2359808   \n",
      "_________________________________________________________________\n",
      "block5_conv2 (Conv2D)        (None, 14, 14, 512)       2359808   \n",
      "_________________________________________________________________\n",
      "block5_conv3 (Conv2D)        (None, 14, 14, 512)       2359808   \n",
      "_________________________________________________________________\n",
      "block5_pool (MaxPooling2D)   (None, 7, 7, 512)         0         \n",
      "=================================================================\n",
      "Total params: 14,714,688\n",
      "Trainable params: 14,714,688\n",
      "Non-trainable params: 0\n",
      "_________________________________________________________________\n"
     ]
    }
   ],
   "source": [
    "vgg_model = tf.keras.applications.VGG16(weights = 'imagenet',\n",
    "                                        include_top = False,\n",
    "                                        input_shape=(IMG_SIZE, IMG_SIZE, 3))\n",
    "vgg_model.summary()"
   ]
  },
  {
   "cell_type": "code",
   "execution_count": 5,
   "id": "charged-textbook",
   "metadata": {
    "scrolled": true
   },
   "outputs": [],
   "source": [
    "model = tf.keras.Sequential()\n",
    "\n",
    "for layer in vgg_model.layers[:-1]: # just exclude last layer from copying\n",
    "    model.add(layer)\n",
    "    \n",
    "for layer in model.layers:\n",
    "    layer.trainable = False\n",
    "\n",
    "model.add(tf.keras.layers.Conv2D(filters=1024, kernel_size=(3, 3), padding='same', activation='relu'))\n",
    "model.add(tf.keras.layers.GlobalAveragePooling2D())\n",
    "model.add(tf.keras.layers.Dense(2, activation='softmax'))"
   ]
  },
  {
   "cell_type": "code",
   "execution_count": 6,
   "id": "imported-outdoors",
   "metadata": {},
   "outputs": [
    {
     "name": "stdout",
     "output_type": "stream",
     "text": [
      "Found 2447 images belonging to 2 classes.\n",
      "Found 612 images belonging to 2 classes.\n",
      "Found 961 images belonging to 2 classes.\n"
     ]
    }
   ],
   "source": [
    "train_data_dir = '0310_dataset/train'\n",
    "validation_data_dir = '0310_dataset/validation'\n",
    "test_data_dir = '0310_dataset/test'\n",
    "\n",
    "train_datagen = ImageDataGenerator(\n",
    "                    rescale=1./255,\n",
    "#                     rotation_range=30,\n",
    "#                     width_shift_range=0.3,\n",
    "#                     height_shift_range=0.3,\n",
    "#                     fill_mode='nearest'\n",
    "                    )\n",
    "\n",
    "validation_datagen = ImageDataGenerator(rescale=1./255)\n",
    "\n",
    "test_datagen = ImageDataGenerator(rescale=1./255)\n",
    "\n",
    "batch_size = 32\n",
    "\n",
    "train_generator = train_datagen.flow_from_directory(\n",
    "train_data_dir,\n",
    "target_size=(IMG_SIZE, IMG_SIZE),\n",
    "batch_size=batch_size,\n",
    "class_mode='categorical',\n",
    ")\n",
    "\n",
    "validation_generator = validation_datagen.flow_from_directory(\n",
    "validation_data_dir,\n",
    "target_size=(IMG_SIZE, IMG_SIZE),\n",
    "batch_size=batch_size,\n",
    "class_mode='categorical'\n",
    ")\n",
    "\n",
    "test_generator = test_datagen.flow_from_directory(\n",
    "    test_data_dir,\n",
    "    target_size=(IMG_SIZE, IMG_SIZE),\n",
    "    batch_size=batch_size,\n",
    "    class_mode='categorical'\n",
    ")"
   ]
  },
  {
   "cell_type": "code",
   "execution_count": 7,
   "id": "exposed-language",
   "metadata": {},
   "outputs": [],
   "source": [
    "from tensorflow.keras.optimizers import Adam\n",
    "from datetime import datetime"
   ]
  },
  {
   "cell_type": "code",
   "execution_count": 8,
   "id": "latin-vegetation",
   "metadata": {},
   "outputs": [],
   "source": [
    "model.compile(loss='categorical_crossentropy',\n",
    "             optimizer=tf.optimizers.Adam(),\n",
    "             metrics=['accuracy']\n",
    "             )\n",
    "\n",
    "nb_train_samples = len(train_generator.classes)\n",
    "nb_validation_samples = len(validation_generator.classes)"
   ]
  },
  {
   "cell_type": "code",
   "execution_count": 9,
   "id": "f6e5e191",
   "metadata": {
    "scrolled": true
   },
   "outputs": [
    {
     "name": "stderr",
     "output_type": "stream",
     "text": [
      "Failed to detect the name of this notebook, you can set it manually with the WANDB_NOTEBOOK_NAME environment variable to enable code saving.\n",
      "\u001b[34m\u001b[1mwandb\u001b[0m: Currently logged in as: \u001b[33myhkim\u001b[0m (use `wandb login --relogin` to force relogin)\n",
      "/home/yongho/anaconda3/envs/tensor/lib/python3.7/site-packages/IPython/html.py:14: ShimWarning: The `IPython.html` package has been deprecated since IPython 4.0. You should import from `notebook` instead. `IPython.html.widgets` has moved to `ipywidgets`.\n",
      "  \"`IPython.html.widgets` has moved to `ipywidgets`.\", ShimWarning)\n",
      "2021-10-18 23:35:22.626841: I tensorflow/stream_executor/platform/default/dso_loader.cc:49] Successfully opened dynamic library libcudart.so.10.1\n"
     ]
    },
    {
     "data": {
      "text/html": [
       "\n",
       "                    Syncing run <strong><a href=\"https://wandb.ai/yhkim/KICS_FALL/runs/1rjwx543\" target=\"_blank\">decent-dust-9</a></strong> to <a href=\"https://wandb.ai/yhkim/KICS_FALL\" target=\"_blank\">Weights & Biases</a> (<a href=\"https://docs.wandb.com/integrations/jupyter.html\" target=\"_blank\">docs</a>).<br/>\n",
       "\n",
       "                "
      ],
      "text/plain": [
       "<IPython.core.display.HTML object>"
      ]
     },
     "metadata": {},
     "output_type": "display_data"
    },
    {
     "data": {
      "text/html": [
       "<button onClick=\"this.nextSibling.style.display='block';this.style.display='none';\">Display W&B run</button><iframe src=\"https://wandb.ai/yhkim/KICS_FALL/runs/1rjwx543?jupyter=true\" style=\"border:none;width:100%;height:420px;display:none;\"></iframe>"
      ],
      "text/plain": [
       "<wandb.sdk.wandb_run.Run at 0x7fc3a407e050>"
      ]
     },
     "execution_count": 9,
     "metadata": {},
     "output_type": "execute_result"
    }
   ],
   "source": [
    "wandb.init(project='KICS_FALL', entity='yhkim')"
   ]
  },
  {
   "cell_type": "code",
   "execution_count": 10,
   "id": "8fd13423",
   "metadata": {},
   "outputs": [],
   "source": [
    "config = wandb.config\n",
    "config.epochs = 100"
   ]
  },
  {
   "cell_type": "code",
   "execution_count": 11,
   "id": "constant-iraqi",
   "metadata": {},
   "outputs": [
    {
     "name": "stderr",
     "output_type": "stream",
     "text": [
      "2021-10-18 23:35:26.455483: I tensorflow/compiler/mlir/mlir_graph_optimization_pass.cc:116] None of the MLIR optimization passes are enabled (registered 2)\n",
      "2021-10-18 23:35:26.472370: I tensorflow/core/platform/profile_utils/cpu_utils.cc:112] CPU Frequency: 3593330000 Hz\n"
     ]
    },
    {
     "name": "stdout",
     "output_type": "stream",
     "text": [
      "Epoch 1/100\n"
     ]
    },
    {
     "name": "stderr",
     "output_type": "stream",
     "text": [
      "2021-10-18 23:35:26.874512: I tensorflow/stream_executor/platform/default/dso_loader.cc:49] Successfully opened dynamic library libcublas.so.10\n",
      "2021-10-18 23:35:27.177323: I tensorflow/stream_executor/platform/default/dso_loader.cc:49] Successfully opened dynamic library libcudnn.so.7\n",
      "2021-10-18 23:35:28.121172: W tensorflow/core/common_runtime/bfc_allocator.cc:248] Allocator (GPU_0_bfc) ran out of memory trying to allocate 3.46GiB with freed_by_count=0. The caller indicates that this is not a failure, but may mean that there could be performance gains if more memory were available.\n"
     ]
    },
    {
     "name": "stdout",
     "output_type": "stream",
     "text": [
      "76/76 [==============================] - 30s 363ms/step - loss: 0.7389 - accuracy: 0.7660 - val_loss: 0.2343 - val_accuracy: 0.9178\n",
      "Epoch 2/100\n",
      "76/76 [==============================] - 27s 353ms/step - loss: 0.2088 - accuracy: 0.9250 - val_loss: 0.1613 - val_accuracy: 0.9408\n",
      "Epoch 3/100\n",
      "76/76 [==============================] - 26s 347ms/step - loss: 0.1705 - accuracy: 0.9351 - val_loss: 0.1980 - val_accuracy: 0.9243\n",
      "Epoch 4/100\n",
      "76/76 [==============================] - 26s 345ms/step - loss: 0.1444 - accuracy: 0.9481 - val_loss: 0.1436 - val_accuracy: 0.9441\n",
      "Epoch 5/100\n",
      "76/76 [==============================] - 26s 346ms/step - loss: 0.1193 - accuracy: 0.9570 - val_loss: 0.1880 - val_accuracy: 0.9375\n",
      "Epoch 6/100\n",
      "76/76 [==============================] - 26s 346ms/step - loss: 0.1275 - accuracy: 0.9511 - val_loss: 0.1613 - val_accuracy: 0.9408\n",
      "Epoch 7/100\n",
      "76/76 [==============================] - 26s 346ms/step - loss: 0.0987 - accuracy: 0.9661 - val_loss: 0.1402 - val_accuracy: 0.9474\n",
      "Epoch 8/100\n",
      "76/76 [==============================] - 26s 345ms/step - loss: 0.0958 - accuracy: 0.9660 - val_loss: 0.1576 - val_accuracy: 0.9375\n",
      "Epoch 9/100\n",
      "76/76 [==============================] - 26s 345ms/step - loss: 0.0751 - accuracy: 0.9770 - val_loss: 0.1333 - val_accuracy: 0.9490\n",
      "Epoch 10/100\n",
      "76/76 [==============================] - 26s 346ms/step - loss: 0.0696 - accuracy: 0.9753 - val_loss: 0.1209 - val_accuracy: 0.9556\n",
      "Epoch 11/100\n",
      "76/76 [==============================] - 26s 347ms/step - loss: 0.0674 - accuracy: 0.9798 - val_loss: 0.2215 - val_accuracy: 0.9293\n",
      "Epoch 12/100\n",
      "76/76 [==============================] - 26s 347ms/step - loss: 0.0715 - accuracy: 0.9771 - val_loss: 0.1143 - val_accuracy: 0.9556\n",
      "Epoch 13/100\n",
      "76/76 [==============================] - 26s 344ms/step - loss: 0.0401 - accuracy: 0.9890 - val_loss: 0.1271 - val_accuracy: 0.9523\n",
      "Epoch 14/100\n",
      "76/76 [==============================] - 26s 346ms/step - loss: 0.0368 - accuracy: 0.9899 - val_loss: 0.1166 - val_accuracy: 0.9572\n",
      "Epoch 15/100\n",
      "76/76 [==============================] - 26s 348ms/step - loss: 0.0352 - accuracy: 0.9885 - val_loss: 0.1257 - val_accuracy: 0.9572\n",
      "Epoch 16/100\n",
      "76/76 [==============================] - 27s 355ms/step - loss: 0.0546 - accuracy: 0.9804 - val_loss: 0.1004 - val_accuracy: 0.9622\n",
      "Epoch 17/100\n",
      "76/76 [==============================] - 27s 358ms/step - loss: 0.0429 - accuracy: 0.9843 - val_loss: 0.1128 - val_accuracy: 0.9605\n",
      "Epoch 18/100\n",
      "76/76 [==============================] - 27s 354ms/step - loss: 0.0437 - accuracy: 0.9839 - val_loss: 0.1636 - val_accuracy: 0.9507\n",
      "Epoch 19/100\n",
      "76/76 [==============================] - 27s 351ms/step - loss: 0.0390 - accuracy: 0.9838 - val_loss: 0.1123 - val_accuracy: 0.9605\n",
      "Epoch 20/100\n",
      "76/76 [==============================] - 27s 350ms/step - loss: 0.0272 - accuracy: 0.9905 - val_loss: 0.0986 - val_accuracy: 0.9638\n",
      "Epoch 21/100\n",
      "76/76 [==============================] - 27s 351ms/step - loss: 0.0200 - accuracy: 0.9959 - val_loss: 0.1234 - val_accuracy: 0.9622\n",
      "Epoch 22/100\n",
      "76/76 [==============================] - 26s 347ms/step - loss: 0.0161 - accuracy: 0.9955 - val_loss: 0.1166 - val_accuracy: 0.9638\n",
      "Epoch 23/100\n",
      "76/76 [==============================] - 27s 358ms/step - loss: 0.0179 - accuracy: 0.9955 - val_loss: 0.1658 - val_accuracy: 0.9572\n",
      "Epoch 24/100\n",
      "76/76 [==============================] - 27s 351ms/step - loss: 0.0162 - accuracy: 0.9933 - val_loss: 0.1246 - val_accuracy: 0.9622\n",
      "Epoch 25/100\n",
      "76/76 [==============================] - 27s 350ms/step - loss: 0.0118 - accuracy: 0.9964 - val_loss: 0.1264 - val_accuracy: 0.9622\n",
      "Epoch 26/100\n",
      "76/76 [==============================] - 27s 350ms/step - loss: 0.0111 - accuracy: 0.9989 - val_loss: 0.1108 - val_accuracy: 0.9655\n",
      "Epoch 27/100\n",
      "76/76 [==============================] - 27s 352ms/step - loss: 0.0259 - accuracy: 0.9918 - val_loss: 0.1567 - val_accuracy: 0.9605\n",
      "Epoch 28/100\n",
      "76/76 [==============================] - 27s 350ms/step - loss: 0.0083 - accuracy: 1.0000 - val_loss: 0.1221 - val_accuracy: 0.9638\n",
      "Epoch 29/100\n",
      "76/76 [==============================] - 27s 350ms/step - loss: 0.0059 - accuracy: 0.9994 - val_loss: 0.1416 - val_accuracy: 0.9622\n",
      "Epoch 30/100\n",
      "76/76 [==============================] - 27s 349ms/step - loss: 0.0050 - accuracy: 1.0000 - val_loss: 0.1382 - val_accuracy: 0.9622\n",
      "Epoch 31/100\n",
      "76/76 [==============================] - 27s 350ms/step - loss: 0.0030 - accuracy: 1.0000 - val_loss: 0.1383 - val_accuracy: 0.9655\n",
      "Epoch 32/100\n",
      "76/76 [==============================] - 27s 348ms/step - loss: 0.0035 - accuracy: 1.0000 - val_loss: 0.1403 - val_accuracy: 0.9638\n",
      "Epoch 33/100\n",
      "76/76 [==============================] - 27s 356ms/step - loss: 0.0026 - accuracy: 1.0000 - val_loss: 0.1400 - val_accuracy: 0.9671\n",
      "Epoch 34/100\n",
      "76/76 [==============================] - 27s 356ms/step - loss: 0.0020 - accuracy: 1.0000 - val_loss: 0.1514 - val_accuracy: 0.9638\n",
      "Epoch 35/100\n",
      "76/76 [==============================] - 27s 356ms/step - loss: 0.0055 - accuracy: 0.9996 - val_loss: 0.1409 - val_accuracy: 0.9655\n",
      "Epoch 36/100\n",
      "76/76 [==============================] - 27s 353ms/step - loss: 0.0021 - accuracy: 1.0000 - val_loss: 0.1454 - val_accuracy: 0.9655\n",
      "Epoch 37/100\n",
      "76/76 [==============================] - 27s 351ms/step - loss: 0.0014 - accuracy: 1.0000 - val_loss: 0.1604 - val_accuracy: 0.9671\n",
      "Epoch 38/100\n",
      "76/76 [==============================] - 27s 351ms/step - loss: 0.0019 - accuracy: 1.0000 - val_loss: 0.1405 - val_accuracy: 0.9638\n",
      "Epoch 39/100\n",
      "76/76 [==============================] - 27s 350ms/step - loss: 0.0013 - accuracy: 1.0000 - val_loss: 0.1549 - val_accuracy: 0.9638\n",
      "Epoch 40/100\n",
      "76/76 [==============================] - 27s 351ms/step - loss: 0.0011 - accuracy: 1.0000 - val_loss: 0.1572 - val_accuracy: 0.9655\n",
      "Epoch 41/100\n",
      "76/76 [==============================] - 27s 353ms/step - loss: 0.0011 - accuracy: 1.0000 - val_loss: 0.1585 - val_accuracy: 0.9655\n",
      "Epoch 42/100\n",
      "76/76 [==============================] - 27s 354ms/step - loss: 0.0011 - accuracy: 1.0000 - val_loss: 0.1666 - val_accuracy: 0.9638\n",
      "Epoch 43/100\n",
      "76/76 [==============================] - 27s 352ms/step - loss: 0.0012 - accuracy: 1.0000 - val_loss: 0.1699 - val_accuracy: 0.9622\n",
      "Epoch 44/100\n",
      "76/76 [==============================] - 27s 351ms/step - loss: 0.0022 - accuracy: 1.0000 - val_loss: 0.1706 - val_accuracy: 0.9622\n",
      "Epoch 45/100\n",
      "76/76 [==============================] - 27s 355ms/step - loss: 0.0025 - accuracy: 1.0000 - val_loss: 0.1615 - val_accuracy: 0.9638\n",
      "Epoch 46/100\n",
      "76/76 [==============================] - 27s 353ms/step - loss: 7.4869e-04 - accuracy: 1.0000 - val_loss: 0.1682 - val_accuracy: 0.9622\n",
      "Epoch 47/100\n",
      "76/76 [==============================] - 27s 355ms/step - loss: 5.9912e-04 - accuracy: 1.0000 - val_loss: 0.1721 - val_accuracy: 0.9638\n",
      "Epoch 48/100\n",
      "76/76 [==============================] - 27s 355ms/step - loss: 5.8174e-04 - accuracy: 1.0000 - val_loss: 0.1604 - val_accuracy: 0.9671\n",
      "Epoch 49/100\n",
      "76/76 [==============================] - 27s 351ms/step - loss: 5.8941e-04 - accuracy: 1.0000 - val_loss: 0.1806 - val_accuracy: 0.9622\n",
      "Epoch 50/100\n",
      "76/76 [==============================] - 27s 351ms/step - loss: 4.6620e-04 - accuracy: 1.0000 - val_loss: 0.1745 - val_accuracy: 0.9638\n",
      "Epoch 51/100\n",
      "76/76 [==============================] - 27s 352ms/step - loss: 3.8671e-04 - accuracy: 1.0000 - val_loss: 0.1755 - val_accuracy: 0.9655\n",
      "Epoch 52/100\n",
      "76/76 [==============================] - 27s 350ms/step - loss: 4.0864e-04 - accuracy: 1.0000 - val_loss: 0.1771 - val_accuracy: 0.9638\n",
      "Epoch 53/100\n",
      "76/76 [==============================] - 27s 351ms/step - loss: 4.4341e-04 - accuracy: 1.0000 - val_loss: 0.1680 - val_accuracy: 0.9655\n",
      "Epoch 54/100\n",
      "76/76 [==============================] - 27s 353ms/step - loss: 4.3965e-04 - accuracy: 1.0000 - val_loss: 0.1805 - val_accuracy: 0.9655\n",
      "Epoch 55/100\n",
      "76/76 [==============================] - 27s 349ms/step - loss: 3.5828e-04 - accuracy: 1.0000 - val_loss: 0.1834 - val_accuracy: 0.9622\n",
      "Epoch 56/100\n",
      "76/76 [==============================] - 27s 350ms/step - loss: 3.7691e-04 - accuracy: 1.0000 - val_loss: 0.1829 - val_accuracy: 0.9655\n",
      "Epoch 57/100\n",
      "76/76 [==============================] - 27s 349ms/step - loss: 2.9006e-04 - accuracy: 1.0000 - val_loss: 0.1866 - val_accuracy: 0.9622\n",
      "Epoch 58/100\n",
      "76/76 [==============================] - 27s 350ms/step - loss: 2.7303e-04 - accuracy: 1.0000 - val_loss: 0.1800 - val_accuracy: 0.9655\n",
      "Epoch 59/100\n",
      "76/76 [==============================] - 27s 349ms/step - loss: 2.6134e-04 - accuracy: 1.0000 - val_loss: 0.1848 - val_accuracy: 0.9638\n",
      "Epoch 60/100\n",
      "76/76 [==============================] - 27s 352ms/step - loss: 2.5691e-04 - accuracy: 1.0000 - val_loss: 0.1864 - val_accuracy: 0.9638\n",
      "Epoch 61/100\n",
      "76/76 [==============================] - 27s 353ms/step - loss: 2.2061e-04 - accuracy: 1.0000 - val_loss: 0.1778 - val_accuracy: 0.9655\n",
      "Epoch 62/100\n",
      "76/76 [==============================] - 27s 351ms/step - loss: 2.8447e-04 - accuracy: 1.0000 - val_loss: 0.1878 - val_accuracy: 0.9655\n",
      "Epoch 63/100\n",
      "76/76 [==============================] - 27s 350ms/step - loss: 1.9272e-04 - accuracy: 1.0000 - val_loss: 0.1876 - val_accuracy: 0.9655\n",
      "Epoch 64/100\n",
      "76/76 [==============================] - 27s 350ms/step - loss: 1.9816e-04 - accuracy: 1.0000 - val_loss: 0.1895 - val_accuracy: 0.9655\n",
      "Epoch 65/100\n",
      "76/76 [==============================] - 27s 349ms/step - loss: 1.7735e-04 - accuracy: 1.0000 - val_loss: 0.1936 - val_accuracy: 0.9655\n",
      "Epoch 66/100\n",
      "76/76 [==============================] - 27s 349ms/step - loss: 1.9710e-04 - accuracy: 1.0000 - val_loss: 0.1964 - val_accuracy: 0.9638\n",
      "Epoch 67/100\n",
      "76/76 [==============================] - 27s 350ms/step - loss: 2.2643e-04 - accuracy: 1.0000 - val_loss: 0.1956 - val_accuracy: 0.9655\n",
      "Epoch 68/100\n",
      "76/76 [==============================] - 27s 349ms/step - loss: 1.6498e-04 - accuracy: 1.0000 - val_loss: 0.1947 - val_accuracy: 0.9638\n",
      "Epoch 69/100\n",
      "76/76 [==============================] - 27s 350ms/step - loss: 1.5821e-04 - accuracy: 1.0000 - val_loss: 0.1959 - val_accuracy: 0.9638\n",
      "Epoch 70/100\n",
      "76/76 [==============================] - 27s 350ms/step - loss: 1.5007e-04 - accuracy: 1.0000 - val_loss: 0.2022 - val_accuracy: 0.9622\n",
      "Epoch 71/100\n",
      "76/76 [==============================] - 27s 352ms/step - loss: 1.7113e-04 - accuracy: 1.0000 - val_loss: 0.1989 - val_accuracy: 0.9638\n",
      "Epoch 72/100\n",
      "76/76 [==============================] - 27s 355ms/step - loss: 1.4961e-04 - accuracy: 1.0000 - val_loss: 0.2005 - val_accuracy: 0.9655\n",
      "Epoch 73/100\n",
      "76/76 [==============================] - 27s 353ms/step - loss: 1.2206e-04 - accuracy: 1.0000 - val_loss: 0.2002 - val_accuracy: 0.9638\n",
      "Epoch 74/100\n",
      "76/76 [==============================] - 27s 351ms/step - loss: 1.1104e-04 - accuracy: 1.0000 - val_loss: 0.2016 - val_accuracy: 0.9638\n",
      "Epoch 75/100\n",
      "76/76 [==============================] - 27s 351ms/step - loss: 1.4470e-04 - accuracy: 1.0000 - val_loss: 0.2065 - val_accuracy: 0.9638\n",
      "Epoch 76/100\n",
      "76/76 [==============================] - 26s 346ms/step - loss: 1.0925e-04 - accuracy: 1.0000 - val_loss: 0.2008 - val_accuracy: 0.9671\n",
      "Epoch 77/100\n",
      "76/76 [==============================] - 26s 345ms/step - loss: 1.0660e-04 - accuracy: 1.0000 - val_loss: 0.2038 - val_accuracy: 0.9655\n",
      "Epoch 78/100\n",
      "76/76 [==============================] - 26s 347ms/step - loss: 9.3973e-05 - accuracy: 1.0000 - val_loss: 0.2047 - val_accuracy: 0.9638\n",
      "Epoch 79/100\n",
      "76/76 [==============================] - 26s 346ms/step - loss: 9.7987e-05 - accuracy: 1.0000 - val_loss: 0.2190 - val_accuracy: 0.9638\n",
      "Epoch 80/100\n",
      "76/76 [==============================] - 26s 347ms/step - loss: 1.1681e-04 - accuracy: 1.0000 - val_loss: 0.2108 - val_accuracy: 0.9622\n",
      "Epoch 81/100\n",
      "76/76 [==============================] - 27s 348ms/step - loss: 1.1780e-04 - accuracy: 1.0000 - val_loss: 0.2098 - val_accuracy: 0.9655\n",
      "Epoch 82/100\n",
      "76/76 [==============================] - 26s 346ms/step - loss: 7.8369e-05 - accuracy: 1.0000 - val_loss: 0.2154 - val_accuracy: 0.9622\n",
      "Epoch 83/100\n",
      "76/76 [==============================] - 26s 347ms/step - loss: 8.9823e-05 - accuracy: 1.0000 - val_loss: 0.2114 - val_accuracy: 0.9638\n",
      "Epoch 84/100\n",
      "76/76 [==============================] - 26s 347ms/step - loss: 7.5578e-05 - accuracy: 1.0000 - val_loss: 0.2105 - val_accuracy: 0.9655\n",
      "Epoch 85/100\n",
      "76/76 [==============================] - 26s 346ms/step - loss: 8.3499e-05 - accuracy: 1.0000 - val_loss: 0.2101 - val_accuracy: 0.9655\n",
      "Epoch 86/100\n",
      "76/76 [==============================] - 26s 347ms/step - loss: 9.2423e-05 - accuracy: 1.0000 - val_loss: 0.2121 - val_accuracy: 0.9622\n",
      "Epoch 87/100\n",
      "76/76 [==============================] - 26s 347ms/step - loss: 5.2080e-05 - accuracy: 1.0000 - val_loss: 0.2156 - val_accuracy: 0.9638\n",
      "Epoch 88/100\n",
      "76/76 [==============================] - 26s 346ms/step - loss: 9.7780e-05 - accuracy: 1.0000 - val_loss: 0.2156 - val_accuracy: 0.9638\n",
      "Epoch 89/100\n",
      "76/76 [==============================] - 26s 345ms/step - loss: 8.2607e-05 - accuracy: 1.0000 - val_loss: 0.1984 - val_accuracy: 0.9671\n",
      "Epoch 90/100\n",
      "76/76 [==============================] - 26s 346ms/step - loss: 5.5276e-05 - accuracy: 1.0000 - val_loss: 0.2217 - val_accuracy: 0.9638\n",
      "Epoch 91/100\n",
      "76/76 [==============================] - 26s 346ms/step - loss: 7.0635e-05 - accuracy: 1.0000 - val_loss: 0.2183 - val_accuracy: 0.9655\n",
      "Epoch 92/100\n",
      "76/76 [==============================] - 26s 347ms/step - loss: 4.4438e-05 - accuracy: 1.0000 - val_loss: 0.2214 - val_accuracy: 0.9655\n",
      "Epoch 93/100\n",
      "76/76 [==============================] - 26s 346ms/step - loss: 4.9729e-05 - accuracy: 1.0000 - val_loss: 0.2190 - val_accuracy: 0.9655\n",
      "Epoch 94/100\n",
      "76/76 [==============================] - 26s 345ms/step - loss: 5.0393e-05 - accuracy: 1.0000 - val_loss: 0.2214 - val_accuracy: 0.9638\n",
      "Epoch 95/100\n",
      "76/76 [==============================] - 26s 347ms/step - loss: 3.8820e-05 - accuracy: 1.0000 - val_loss: 0.2220 - val_accuracy: 0.9638\n",
      "Epoch 96/100\n",
      "76/76 [==============================] - 26s 348ms/step - loss: 3.7986e-05 - accuracy: 1.0000 - val_loss: 0.2236 - val_accuracy: 0.9655\n",
      "Epoch 97/100\n",
      "76/76 [==============================] - 26s 345ms/step - loss: 2.8506e-05 - accuracy: 1.0000 - val_loss: 0.2316 - val_accuracy: 0.9638\n",
      "Epoch 98/100\n",
      "76/76 [==============================] - 26s 347ms/step - loss: 3.2835e-05 - accuracy: 1.0000 - val_loss: 0.2230 - val_accuracy: 0.9655\n",
      "Epoch 99/100\n",
      "76/76 [==============================] - 26s 346ms/step - loss: 3.7183e-05 - accuracy: 1.0000 - val_loss: 0.2241 - val_accuracy: 0.9655\n",
      "Epoch 100/100\n",
      "76/76 [==============================] - 26s 346ms/step - loss: 3.5835e-05 - accuracy: 1.0000 - val_loss: 0.2230 - val_accuracy: 0.9655\n"
     ]
    }
   ],
   "source": [
    "history = model.fit(train_generator,\n",
    "                              steps_per_epoch=nb_train_samples//batch_size,\n",
    "                              validation_data=validation_generator,\n",
    "                              validation_steps=nb_validation_samples//batch_size,\n",
    "                              epochs=config.epochs,\n",
    "                    callbacks=[WandbCallback()])"
   ]
  },
  {
   "cell_type": "code",
   "execution_count": null,
   "id": "announced-solomon",
   "metadata": {},
   "outputs": [],
   "source": [
    "history = model.history\n",
    "\n",
    "plt.plot(history.history['accuracy'])\n",
    "plt.plot(history.history['val_accuracy'])\n",
    "\n",
    "plt.title('Model accuracy')\n",
    "plt.xlabel('Epoch')\n",
    "plt.ylabel('Accuracy')\n",
    "plt.legend(['Train', 'Validation'], loc='upper left')\n",
    "plt.show()\n",
    "\n",
    "plt.plot(history.history['loss'])\n",
    "plt.plot(history.history['val_loss'])\n",
    "plt.title('Model loss')\n",
    "plt.xlabel('Epoch')\n",
    "plt.legend(['Train', 'Validation'], loc='upper left')\n",
    "plt.show()"
   ]
  },
  {
   "cell_type": "code",
   "execution_count": null,
   "id": "radical-shooting",
   "metadata": {},
   "outputs": [],
   "source": [
    "model.save('paper_data')"
   ]
  },
  {
   "cell_type": "code",
   "execution_count": null,
   "id": "enhanced-isaac",
   "metadata": {},
   "outputs": [],
   "source": [
    "import matplotlib.pyplot as plt\n",
    "import cv2\n",
    "import numpy as np\n",
    "import random\n",
    "from sklearn.metrics import confusion_matrix, classification_report, plot_confusion_matrix, accuracy_score\n",
    "import sklearn"
   ]
  },
  {
   "cell_type": "code",
   "execution_count": null,
   "id": "trying-nancy",
   "metadata": {},
   "outputs": [],
   "source": [
    "model = load_model('./paper_data')\n",
    "classes = os.listdir('./paper_dataset/train')"
   ]
  },
  {
   "cell_type": "code",
   "execution_count": null,
   "id": "discrete-detector",
   "metadata": {},
   "outputs": [],
   "source": [
    "img_rows, img_cols = 224, 224\n",
    "batch_size = 64\n",
    "\n",
    "test_data_dir = 'paper_dataset/test'\n",
    "test_datagen = ImageDataGenerator(rescale=1./255)\n",
    "test_generator = test_datagen.flow_from_directory(\n",
    "    test_data_dir,\n",
    "    target_size=(img_rows, img_cols),\n",
    "    batch_size=batch_size,\n",
    "    class_mode='categorical',\n",
    "    shuffle=False\n",
    ")"
   ]
  },
  {
   "cell_type": "code",
   "execution_count": null,
   "id": "threatened-surgeon",
   "metadata": {},
   "outputs": [],
   "source": [
    "test_generator.reset()\n",
    "Y_pred = model.predict_generator(test_generator, verbose=1)\n",
    "classes = test_generator.classes[test_generator.index_array]\n",
    "y_pred = np.argmax(Y_pred, axis=-1)"
   ]
  },
  {
   "cell_type": "code",
   "execution_count": null,
   "id": "liberal-belle",
   "metadata": {},
   "outputs": [],
   "source": [
    "print(sum(y_pred==classes)/833)"
   ]
  },
  {
   "cell_type": "markdown",
   "id": "auburn-toner",
   "metadata": {},
   "source": [
    "## Scene Classification"
   ]
  },
  {
   "cell_type": "code",
   "execution_count": null,
   "id": "proprietary-conversation",
   "metadata": {},
   "outputs": [],
   "source": [
    "print('-- Confusion Matrix --')\n",
    "print(confusion_matrix(test_generator.classes[test_generator.index_array], y_pred))"
   ]
  },
  {
   "cell_type": "code",
   "execution_count": null,
   "id": "fatal-manitoba",
   "metadata": {},
   "outputs": [],
   "source": [
    "class_names = ['not_pitching', 'pitching']"
   ]
  },
  {
   "cell_type": "code",
   "execution_count": null,
   "id": "suburban-scale",
   "metadata": {},
   "outputs": [],
   "source": [
    "print(classification_report(test_generator.classes[test_generator.index_array], y_pred, target_names=class_names))"
   ]
  },
  {
   "cell_type": "markdown",
   "id": "local-seller",
   "metadata": {},
   "source": [
    "## Object Detection"
   ]
  },
  {
   "cell_type": "code",
   "execution_count": null,
   "id": "aware-punch",
   "metadata": {},
   "outputs": [],
   "source": [
    "od_true = np.zeros((833,), dtype=int)\n",
    "od_predict = np.zeros((833,), dtype=int)\n",
    "\n",
    "for x in os.listdir('paper_dataset/test/pitching'):\n",
    "    od_true[int(x.replace('.','_').split('_')[1])] = 1\n",
    "\n",
    "for x in os.listdir('od_result'):\n",
    "    od_predict[int(x.replace('.','_').split('_')[1])] = 1"
   ]
  },
  {
   "cell_type": "code",
   "execution_count": null,
   "id": "convenient-passage",
   "metadata": {},
   "outputs": [],
   "source": [
    "print('-- Confusion Matrix --')\n",
    "print(confusion_matrix(od_true, od_predict))"
   ]
  },
  {
   "cell_type": "code",
   "execution_count": null,
   "id": "revised-agenda",
   "metadata": {},
   "outputs": [],
   "source": [
    "print(classification_report(od_true, od_predict, target_names=class_names))"
   ]
  },
  {
   "cell_type": "code",
   "execution_count": null,
   "id": "polished-invalid",
   "metadata": {},
   "outputs": [],
   "source": [
    "accuracy_score(od_true, od_predict)"
   ]
  },
  {
   "cell_type": "code",
   "execution_count": null,
   "id": "ecological-jacket",
   "metadata": {},
   "outputs": [],
   "source": [
    "scores = model.evaluate_generator(test_generator)\n",
    "print(\"%s: %.2f%%\" %(model.metrics_names[1], scores[1]*100))"
   ]
  },
  {
   "cell_type": "code",
   "execution_count": null,
   "id": "arabic-punishment",
   "metadata": {},
   "outputs": [],
   "source": [
    "model.metrics_names"
   ]
  },
  {
   "cell_type": "code",
   "execution_count": null,
   "id": "dental-modem",
   "metadata": {},
   "outputs": [],
   "source": [
    "# # random_img = random.sample(os.listdir('./paper_dataset/test/not_pitching/'), 1)[0]\n",
    "# img = cv2.imread(f\"./paper_dataset/test/pitching/frame_515.jpg\")\n",
    "# resize_img = cv2.resize(img.astype('float32') / 255, (224, 224))\n",
    "# # print(random_img)\n",
    "\n",
    "# output = model.predict(resize_img[np.newaxis])\n",
    "\n",
    "# plt.title(f\"True : not_pitching       Predict : {'not pitching' if np.argmax(output) == 0 else 'pitching'}\")\n",
    "# plt.imshow(cv2.cvtColor(img, cv2.COLOR_BGR2RGB))\n",
    "# plt.savefig('Predict not_pitching scene', format='jpg')\n",
    "# # cv2.imwrite('Predict pitching scene.jpg', img)\n",
    "# # plt.imsave('Predict pitching scene.jpg', cv2.cvtColor(img, cv2.COLOR_BGR2RGB))"
   ]
  },
  {
   "cell_type": "code",
   "execution_count": null,
   "id": "unauthorized-perth",
   "metadata": {},
   "outputs": [],
   "source": [
    "# outputs = model.predict_generator(test_generator, verbose=1)\n",
    "# np.set_printoptions(formatter={'float': lambda x: \"{0:0.3f}\".format(x)})\n",
    "# print(test_generator.class_indices)\n",
    "# print(outputs)"
   ]
  },
  {
   "cell_type": "code",
   "execution_count": null,
   "id": "vital-brush",
   "metadata": {},
   "outputs": [],
   "source": [
    "# result = []\n",
    "# for x in output:\n",
    "#     result.append(np.argmax(x))"
   ]
  },
  {
   "cell_type": "code",
   "execution_count": null,
   "id": "united-offering",
   "metadata": {},
   "outputs": [],
   "source": [
    "# not_pitching = [x for x in result if x == 0]\n",
    "# pitching = [x for x in result if x == 1]\n",
    "\n",
    "# print(len(not_pitching))\n",
    "# print(len(pitching))"
   ]
  },
  {
   "cell_type": "code",
   "execution_count": null,
   "id": "sunrise-noise",
   "metadata": {},
   "outputs": [],
   "source": [
    "# outputs[213]"
   ]
  },
  {
   "cell_type": "code",
   "execution_count": null,
   "id": "informational-cheat",
   "metadata": {},
   "outputs": [],
   "source": [
    "# import shutil\n",
    "# from glob import glob\n",
    "# from sklearn.model_selection import train_test_split"
   ]
  },
  {
   "cell_type": "code",
   "execution_count": null,
   "id": "historic-remove",
   "metadata": {},
   "outputs": [],
   "source": [
    "# src = '../0310_dataset'\n",
    "# dst = '../0310_dataset/train'"
   ]
  },
  {
   "cell_type": "markdown",
   "id": "sticky-singing",
   "metadata": {},
   "source": [
    "### Train 폴더에 데이터 전부 옮기기"
   ]
  },
  {
   "cell_type": "code",
   "execution_count": null,
   "id": "vanilla-royalty",
   "metadata": {},
   "outputs": [],
   "source": [
    "# dir_list = os.listdir(src)\n",
    "# dir_list.remove('train')\n",
    "# dir_list.remove('validation')\n",
    "# print(dir_list)\n",
    "# cnt = 0\n",
    "# for x in dir_list:\n",
    "#     for y in os.listdir(f'{src}/{x}'):\n",
    "#         if y.endswith('.jpg'):\n",
    "#             print(y)\n",
    "#             shutil.move(f'{src}/{x}/{y}', f'{dst}/{str(cnt).zfill(5)}.jpg')\n",
    "#             shutil.move(f'{src}/{x}/{y.replace(\".jpg\", \".txt\")}', f'{dst}/{str(cnt).zfill(5)}.txt')\n",
    "#             cnt += 1\n",
    "# print(cnt)"
   ]
  },
  {
   "cell_type": "code",
   "execution_count": null,
   "id": "precious-linux",
   "metadata": {},
   "outputs": [],
   "source": [
    "# data = os.listdir(f'{src}/train')\n",
    "# img_list = []\n",
    "\n",
    "# for x in data:\n",
    "#     if x.endswith('.jpg'):\n",
    "#         img_list.append(x)\n",
    "\n",
    "\n",
    "# print(len(img_list))\n",
    "# # print(img_list)\n",
    "\n",
    "# train_img_list, val_img_list = train_test_split(img_list, test_size=0.2, random_state=42)\n",
    "\n",
    "# print(len(train_img_list), len(val_img_list))"
   ]
  },
  {
   "cell_type": "code",
   "execution_count": null,
   "id": "tested-western",
   "metadata": {},
   "outputs": [],
   "source": [
    "# for x in val_img_list:\n",
    "#     shutil.move(f'{src}/train/{x}', f'{src}/validation/{x}')"
   ]
  }
 ],
 "metadata": {
  "kernelspec": {
   "display_name": "tensor",
   "language": "python",
   "name": "tensor"
  },
  "language_info": {
   "codemirror_mode": {
    "name": "ipython",
    "version": 3
   },
   "file_extension": ".py",
   "mimetype": "text/x-python",
   "name": "python",
   "nbconvert_exporter": "python",
   "pygments_lexer": "ipython3",
   "version": "3.7.10"
  }
 },
 "nbformat": 4,
 "nbformat_minor": 5
}
